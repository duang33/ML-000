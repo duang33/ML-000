{
  "nbformat": 4,
  "nbformat_minor": 0,
  "metadata": {
    "colab": {
      "name": "week02homework.ipynb",
      "provenance": [],
      "collapsed_sections": []
    },
    "kernelspec": {
      "name": "python3",
      "display_name": "Python 3"
    }
  },
  "cells": [
    {
      "cell_type": "code",
      "metadata": {
        "id": "2NZtAK6s0p2C"
      },
      "source": [
        "import numpy as np\r\n",
        "import pandas as pd\r\n"
      ],
      "execution_count": 6,
      "outputs": []
    },
    {
      "cell_type": "markdown",
      "metadata": {
        "id": "rkXxTn7DhPj1"
      },
      "source": [
        "提前导入line_profiler用于分析python代码"
      ]
    },
    {
      "cell_type": "code",
      "metadata": {
        "id": "rk222UO9gVc9",
        "colab": {
          "base_uri": "https://localhost:8080/"
        },
        "outputId": "a4680bb0-e55d-43ef-c003-049d03a67c9a"
      },
      "source": [
        "pip install line_profiler"
      ],
      "execution_count": 7,
      "outputs": [
        {
          "output_type": "stream",
          "text": [
            "Collecting line_profiler\n",
            "\u001b[?25l  Downloading https://files.pythonhosted.org/packages/66/eb/417ace64f45fee7a0394946f8e1f90f925420fd9b14f1f09abb5284a0ca4/line_profiler-3.1.0-cp36-cp36m-manylinux2010_x86_64.whl (63kB)\n",
            "\r\u001b[K     |█████▏                          | 10kB 18.0MB/s eta 0:00:01\r\u001b[K     |██████████▎                     | 20kB 20.2MB/s eta 0:00:01\r\u001b[K     |███████████████▍                | 30kB 11.9MB/s eta 0:00:01\r\u001b[K     |████████████████████▌           | 40kB 9.1MB/s eta 0:00:01\r\u001b[K     |█████████████████████████▋      | 51kB 4.3MB/s eta 0:00:01\r\u001b[K     |██████████████████████████████▊ | 61kB 4.8MB/s eta 0:00:01\r\u001b[K     |████████████████████████████████| 71kB 3.7MB/s \n",
            "\u001b[?25hRequirement already satisfied: IPython in /usr/local/lib/python3.6/dist-packages (from line_profiler) (5.5.0)\n",
            "Requirement already satisfied: pygments in /usr/local/lib/python3.6/dist-packages (from IPython->line_profiler) (2.6.1)\n",
            "Requirement already satisfied: simplegeneric>0.8 in /usr/local/lib/python3.6/dist-packages (from IPython->line_profiler) (0.8.1)\n",
            "Requirement already satisfied: prompt-toolkit<2.0.0,>=1.0.4 in /usr/local/lib/python3.6/dist-packages (from IPython->line_profiler) (1.0.18)\n",
            "Requirement already satisfied: pickleshare in /usr/local/lib/python3.6/dist-packages (from IPython->line_profiler) (0.7.5)\n",
            "Requirement already satisfied: pexpect; sys_platform != \"win32\" in /usr/local/lib/python3.6/dist-packages (from IPython->line_profiler) (4.8.0)\n",
            "Requirement already satisfied: traitlets>=4.2 in /usr/local/lib/python3.6/dist-packages (from IPython->line_profiler) (4.3.3)\n",
            "Requirement already satisfied: decorator in /usr/local/lib/python3.6/dist-packages (from IPython->line_profiler) (4.4.2)\n",
            "Requirement already satisfied: setuptools>=18.5 in /usr/local/lib/python3.6/dist-packages (from IPython->line_profiler) (51.1.1)\n",
            "Requirement already satisfied: wcwidth in /usr/local/lib/python3.6/dist-packages (from prompt-toolkit<2.0.0,>=1.0.4->IPython->line_profiler) (0.2.5)\n",
            "Requirement already satisfied: six>=1.9.0 in /usr/local/lib/python3.6/dist-packages (from prompt-toolkit<2.0.0,>=1.0.4->IPython->line_profiler) (1.15.0)\n",
            "Requirement already satisfied: ptyprocess>=0.5 in /usr/local/lib/python3.6/dist-packages (from pexpect; sys_platform != \"win32\"->IPython->line_profiler) (0.7.0)\n",
            "Requirement already satisfied: ipython-genutils in /usr/local/lib/python3.6/dist-packages (from traitlets>=4.2->IPython->line_profiler) (0.2.0)\n",
            "Installing collected packages: line-profiler\n",
            "Successfully installed line-profiler-3.1.0\n"
          ],
          "name": "stdout"
        }
      ]
    },
    {
      "cell_type": "code",
      "metadata": {
        "id": "Vu5O3Ni0nJPi"
      },
      "source": [
        "x = np.random.randint(10,size=(5000,1))\r\n",
        "y = np.random.randint(2,size=(5000,1))\r\n",
        "data = pd.DataFrame(np.concatenate([y,x],axis=1),columns=['y', 'x'])"
      ],
      "execution_count": 8,
      "outputs": []
    },
    {
      "cell_type": "code",
      "metadata": {
        "id": "klPOq0IXcsVI"
      },
      "source": [
        "def target_mean_v1(data, y_name, x_name):\r\n",
        "  result = np.zeros(data.shape[0])\r\n",
        "  for i in range(data.shape[0]):\r\n",
        "    groupby_result = data[data.index != i].groupby([x_name], as_index=False).agg(['mean', 'count'])\r\n",
        "    result[i] = groupby_result.loc[groupby_result.index == data.loc[i, x_name], (y_name, 'mean')]\r\n",
        "  return result\r\n",
        "\r\n"
      ],
      "execution_count": 9,
      "outputs": []
    },
    {
      "cell_type": "code",
      "metadata": {
        "colab": {
          "base_uri": "https://localhost:8080/"
        },
        "id": "4VhawdmLd7ZQ",
        "outputId": "725efa31-c566-4269-e7eb-d88848aa4fb6"
      },
      "source": [
        "%%timeit\r\n",
        "target_mean_v1(data,'y','x')"
      ],
      "execution_count": 10,
      "outputs": [
        {
          "output_type": "stream",
          "text": [
            "1 loop, best of 3: 23.1 s per loop\n"
          ],
          "name": "stdout"
        }
      ]
    },
    {
      "cell_type": "markdown",
      "metadata": {
        "id": "wCnV7v1miRje"
      },
      "source": [
        "花的时间太多了，下面利用profiler分析每一行语句所用的时间"
      ]
    },
    {
      "cell_type": "code",
      "metadata": {
        "colab": {
          "base_uri": "https://localhost:8080/"
        },
        "id": "uGaERjcqibpF",
        "outputId": "452a8a5f-e140-4f78-93ac-a6acc2a7412f"
      },
      "source": [
        "from line_profiler import LineProfiler \r\n",
        "profile = LineProfiler(target_mean_v1)\r\n",
        "profile.enable()\r\n",
        "target_mean_v1(data,'y','x')\r\n",
        "profile.disable()\r\n",
        "profile.print_stats()"
      ],
      "execution_count": 11,
      "outputs": [
        {
          "output_type": "stream",
          "text": [
            "Timer unit: 1e-06 s\n",
            "\n",
            "Total time: 47.9949 s\n",
            "File: <ipython-input-9-ce8f8ebb5d69>\n",
            "Function: target_mean_v1 at line 1\n",
            "\n",
            "Line #      Hits         Time  Per Hit   % Time  Line Contents\n",
            "==============================================================\n",
            "     1                                           def target_mean_v1(data, y_name, x_name):\n",
            "     2         1        668.0    668.0      0.0    result = np.zeros(data.shape[0])\n",
            "     3      5001       9920.0      2.0      0.0    for i in range(data.shape[0]):\n",
            "     4      5000   40392904.0   8078.6     84.2      groupby_result = data[data.index != i].groupby([x_name], as_index=False).agg(['mean', 'count'])\n",
            "     5      5000    7591399.0   1518.3     15.8      result[i] = groupby_result.loc[groupby_result.index == data.loc[i, x_name], (y_name, 'mean')]\n",
            "     6         1          1.0      1.0      0.0    return result\n",
            "\n"
          ],
          "name": "stdout"
        }
      ]
    },
    {
      "cell_type": "markdown",
      "metadata": {
        "id": "YfC7V6xSjE2e"
      },
      "source": [
        "上图可见最严重的就是group_by,因为每个group_by都是一个循环遍历，接下来我们试着去掉groupby"
      ]
    },
    {
      "cell_type": "code",
      "metadata": {
        "id": "l4o2TXUjfTol"
      },
      "source": [
        "def target_mean_v2(data: pd.DataFrame, y_name: str, x_name: str) ->np.ndarray:\r\n",
        "  result = np.zeros(data.shape[0])\r\n",
        "  value_dict = dict()\r\n",
        "  count_dict = dict()\r\n",
        "  for i in range(data.shape[0]):\r\n",
        "    if data.loc[i, x_name] not in value_dict.keys():\r\n",
        "      value_dict[data.loc[i, x_name]] = data.loc[i, y_name]\r\n",
        "      count_dict[data.loc[i, x_name]] = 1\r\n",
        "    else:\r\n",
        "      value_dict[data.loc[i, x_name]] += data.loc[i, y_name]\r\n",
        "      count_dict[data.loc[i, x_name]] += 1\r\n",
        "  for i in range(data.shape[0]):\r\n",
        "    result[i]=(value_dict[data.loc[i,x_name]] - data.loc[i, y_name])/(count_dict[data.loc[i, x_name]]-1)"
      ],
      "execution_count": 22,
      "outputs": []
    },
    {
      "cell_type": "code",
      "metadata": {
        "colab": {
          "base_uri": "https://localhost:8080/"
        },
        "id": "6dt8WgH5eYV0",
        "outputId": "35464387-25c8-485f-dc6e-5891e59324ff"
      },
      "source": [
        "%%timeit\r\n",
        "target_mean_v2(data,'y','x')"
      ],
      "execution_count": 24,
      "outputs": [
        {
          "output_type": "stream",
          "text": [
            "1 loop, best of 3: 259 ms per loop\n"
          ],
          "name": "stdout"
        }
      ]
    },
    {
      "cell_type": "markdown",
      "metadata": {
        "id": "h90sEhuPlVrA"
      },
      "source": [
        "可以看到我们有了几百倍的速度提升，接下来我们继续分析它的代码\r\n"
      ]
    },
    {
      "cell_type": "code",
      "metadata": {
        "colab": {
          "base_uri": "https://localhost:8080/"
        },
        "id": "dVxh94jGfdol",
        "outputId": "dd51087e-591c-47b6-a313-de655f1c3f39"
      },
      "source": [
        "from line_profiler import LineProfiler\r\n",
        "profile = LineProfiler(target_mean_v2)\r\n",
        "profile.enable()\r\n",
        "target_mean_v2(data,'y','x')\r\n",
        "profile.disable()\r\n",
        "profile.print_stats()"
      ],
      "execution_count": 25,
      "outputs": [
        {
          "output_type": "stream",
          "text": [
            "Timer unit: 1e-06 s\n",
            "\n",
            "Total time: 0.700698 s\n",
            "File: <ipython-input-22-602f1d6e82dd>\n",
            "Function: target_mean_v2 at line 1\n",
            "\n",
            "Line #      Hits         Time  Per Hit   % Time  Line Contents\n",
            "==============================================================\n",
            "     1                                           def target_mean_v2(data: pd.DataFrame, y_name: str, x_name: str) ->np.ndarray:\n",
            "     2         1         58.0     58.0      0.0    result = np.zeros(data.shape[0])\n",
            "     3         1          2.0      2.0      0.0    value_dict = dict()\n",
            "     4         1          1.0      1.0      0.0    count_dict = dict()\n",
            "     5      5001       2742.0      0.5      0.4    for i in range(data.shape[0]):\n",
            "     6      5000     101959.0     20.4     14.6      if data.loc[i, x_name] not in value_dict.keys():\n",
            "     7        10        485.0     48.5      0.1        value_dict[data.loc[i, x_name]] = data.loc[i, y_name]\n",
            "     8        10        243.0     24.3      0.0        count_dict[data.loc[i, x_name]] = 1\n",
            "     9                                               else:\n",
            "    10      4990     198437.0     39.8     28.3        value_dict[data.loc[i, x_name]] += data.loc[i, y_name]\n",
            "    11      4990     100681.0     20.2     14.4        count_dict[data.loc[i, x_name]] += 1\n",
            "    12      5001       2790.0      0.6      0.4    for i in range(data.shape[0]):\n",
            "    13      5000     293300.0     58.7     41.9      result[i]=(value_dict[data.loc[i,x_name]] - data.loc[i, y_name])/(count_dict[data.loc[i, x_name]]-1)\n",
            "\n"
          ],
          "name": "stdout"
        }
      ]
    },
    {
      "cell_type": "markdown",
      "metadata": {
        "id": "OMBftCxqlmt3"
      },
      "source": [
        "这里我们发现有data.loc的地方时间比较多，假设是它的锅，我们试着用变量一次代替它多次"
      ]
    },
    {
      "cell_type": "code",
      "metadata": {
        "id": "rARdb8B5iViu"
      },
      "source": [
        "\r\n",
        "def target_mean_v3(data:pd.DataFrame, y_name:str,x_name:str) ->np.ndarray:\r\n",
        "  data_shape = data.shape[0]\r\n",
        "  result=np.zeros(data_shape)\r\n",
        "  value_dict=dict()\r\n",
        "  count_dict=dict()\r\n",
        "  for i in range(data_shape):\r\n",
        "    data_loc_x = data.loc[i,x_name]\r\n",
        "    data_loc_y = data.loc[i,y_name]\r\n",
        "    if data_loc_x not in value_dict:\r\n",
        "      value_dict[data_loc_x]= data_loc_y\r\n",
        "      count_dict[data_loc_x] = 1\r\n",
        "    else:\r\n",
        "      value_dict[data_loc_x] += data_loc_y\r\n",
        "      count_dict[data_loc_x] += 1\r\n",
        "  for i in range(data_shape):\r\n",
        "    data_loc_x = data.loc[i, x_name]\r\n",
        "    data_loc_y = data.loc[i, y_name]\r\n",
        "    result[i] = (value_dict[data_loc_x]- data_loc_y)/(count_dict[data_loc_x]-1)\r\n",
        "  return result"
      ],
      "execution_count": 26,
      "outputs": []
    },
    {
      "cell_type": "code",
      "metadata": {
        "colab": {
          "base_uri": "https://localhost:8080/"
        },
        "id": "IBZRL2SKmQNc",
        "outputId": "61824817-0dcf-44a2-b7de-957af4c6c36a"
      },
      "source": [
        "%%timeit\r\n",
        "target_mean_v3(data,'y','x')"
      ],
      "execution_count": 27,
      "outputs": [
        {
          "output_type": "stream",
          "text": [
            "10 loops, best of 3: 151 ms per loop\n"
          ],
          "name": "stdout"
        }
      ]
    },
    {
      "cell_type": "markdown",
      "metadata": {
        "id": "g-PprcCml97O"
      },
      "source": [
        "我们看到有了不到两倍的提升，接下来我们再来分析它每行的时间继续优化"
      ]
    },
    {
      "cell_type": "code",
      "metadata": {
        "colab": {
          "base_uri": "https://localhost:8080/"
        },
        "id": "DSPkImLTmsql",
        "outputId": "8d3fae0b-9ad4-4a6d-97ee-b02f614d37ac"
      },
      "source": [
        "\r\n",
        "profile = LineProfiler(target_mean_v3)\r\n",
        "profile.enable()\r\n",
        "target_mean_v3(data,'y','x')\r\n",
        "profile.disable()\r\n",
        "profile.print_stats()"
      ],
      "execution_count": 28,
      "outputs": [
        {
          "output_type": "stream",
          "text": [
            "Timer unit: 1e-06 s\n",
            "\n",
            "Total time: 0.418692 s\n",
            "File: <ipython-input-26-95a93e4b3507>\n",
            "Function: target_mean_v3 at line 2\n",
            "\n",
            "Line #      Hits         Time  Per Hit   % Time  Line Contents\n",
            "==============================================================\n",
            "     2                                           def target_mean_v3(data:pd.DataFrame, y_name:str,x_name:str) ->np.ndarray:\n",
            "     3         1         78.0     78.0      0.0    data_shape = data.shape[0]\n",
            "     4         1        115.0    115.0      0.0    result=np.zeros(data_shape)\n",
            "     5         1          2.0      2.0      0.0    value_dict=dict()\n",
            "     6         1          1.0      1.0      0.0    count_dict=dict()\n",
            "     7      5001       2497.0      0.5      0.6    for i in range(data_shape):\n",
            "     8      5000     102890.0     20.6     24.6      data_loc_x = data.loc[i,x_name]\n",
            "     9      5000     101681.0     20.3     24.3      data_loc_y = data.loc[i,y_name]\n",
            "    10      5000       3291.0      0.7      0.8      if data_loc_x not in value_dict:\n",
            "    11        10          6.0      0.6      0.0        value_dict[data_loc_x]= data_loc_y\n",
            "    12        10          5.0      0.5      0.0        count_dict[data_loc_x] = 1\n",
            "    13                                               else:\n",
            "    14      4990       4622.0      0.9      1.1        value_dict[data_loc_x] += data_loc_y\n",
            "    15      4990       3412.0      0.7      0.8        count_dict[data_loc_x] += 1\n",
            "    16      5001       2556.0      0.5      0.6    for i in range(data_shape):\n",
            "    17      5000      95672.0     19.1     22.9      data_loc_x = data.loc[i, x_name]\n",
            "    18      5000      94653.0     18.9     22.6      data_loc_y = data.loc[i, y_name]\n",
            "    19      5000       7211.0      1.4      1.7      result[i] = (value_dict[data_loc_x]- data_loc_y)/(count_dict[data_loc_x]-1)\n",
            "    20         1          0.0      0.0      0.0    return result\n",
            "\n"
          ],
          "name": "stdout"
        }
      ]
    },
    {
      "cell_type": "markdown",
      "metadata": {
        "id": "BtPPihyAnNTo"
      },
      "source": [
        "看着还是loc浪费时间，把他移除循环"
      ]
    },
    {
      "cell_type": "code",
      "metadata": {
        "id": "nOCho7V8nu4S"
      },
      "source": [
        "def target_mean_v4(data:pd.DataFrame, y_name:str, x_name:str) -> np.ndarray:\r\n",
        "    data_shape = data.shape[0]\r\n",
        "    result = np.zeros(data_shape)\r\n",
        "    value_dict = dict()\r\n",
        "    count_dict = dict()\r\n",
        "\r\n",
        "    x_val_series = data.loc[:, x_name]\r\n",
        "    y_val_series = data.loc[:, y_name]\r\n",
        "    for i in range(data_shape):\r\n",
        "        data_loc_x = x_val_series[i]\r\n",
        "        data_loc_y = y_val_series[i]\r\n",
        "        if data_loc_x not in value_dict:\r\n",
        "            value_dict[data_loc_x] = data_loc_y\r\n",
        "            count_dict[data_loc_x] = 1\r\n",
        "        else:\r\n",
        "            value_dict[data_loc_x] += data_loc_y\r\n",
        "            count_dict[data_loc_x] += 1\r\n",
        "    for i in range(data_shape):\r\n",
        "        data_loc_x = x_val_series[i]\r\n",
        "        data_loc_y = y_val_series[i]\r\n",
        "        result[i] = (value_dict[data_loc_x] - data_loc_y) / (count_dict[data_loc_x] - 1)\r\n",
        "\r\n",
        "    return result"
      ],
      "execution_count": 29,
      "outputs": []
    },
    {
      "cell_type": "code",
      "metadata": {
        "colab": {
          "base_uri": "https://localhost:8080/"
        },
        "id": "6ICWtg8KorPR",
        "outputId": "56c8f044-a092-426c-fe83-98ca5b7b1e93"
      },
      "source": [
        "%%timeit\r\n",
        "target_mean_v4(data,'y','x')"
      ],
      "execution_count": 30,
      "outputs": [
        {
          "output_type": "stream",
          "text": [
            "10 loops, best of 3: 73.2 ms per loop\n"
          ],
          "name": "stdout"
        }
      ]
    },
    {
      "cell_type": "markdown",
      "metadata": {
        "id": "M73Js8PFnaRp"
      },
      "source": [
        "又有了两倍左右的提升，我们接下来继续分析它的代码"
      ]
    },
    {
      "cell_type": "code",
      "metadata": {
        "colab": {
          "base_uri": "https://localhost:8080/"
        },
        "id": "CrGP4EWNsqyq",
        "outputId": "a3abc88f-df22-4b43-d6cf-9d93f22d43ad"
      },
      "source": [
        "profile = LineProfiler(target_mean_v4)\r\n",
        "profile.enable()\r\n",
        "target_mean_v4(data,'y','x')\r\n",
        "profile.disable()\r\n",
        "profile.print_stats()"
      ],
      "execution_count": 31,
      "outputs": [
        {
          "output_type": "stream",
          "text": [
            "Timer unit: 1e-06 s\n",
            "\n",
            "Total time: 0.233046 s\n",
            "File: <ipython-input-29-4dd6ebabfe45>\n",
            "Function: target_mean_v4 at line 1\n",
            "\n",
            "Line #      Hits         Time  Per Hit   % Time  Line Contents\n",
            "==============================================================\n",
            "     1                                           def target_mean_v4(data:pd.DataFrame, y_name:str, x_name:str) -> np.ndarray:\n",
            "     2         1         22.0     22.0      0.0      data_shape = data.shape[0]\n",
            "     3         1         33.0     33.0      0.0      result = np.zeros(data_shape)\n",
            "     4         1          2.0      2.0      0.0      value_dict = dict()\n",
            "     5         1          1.0      1.0      0.0      count_dict = dict()\n",
            "     6                                           \n",
            "     7         1        171.0    171.0      0.1      x_val_series = data.loc[:, x_name]\n",
            "     8         1         68.0     68.0      0.0      y_val_series = data.loc[:, y_name]\n",
            "     9      5001       2535.0      0.5      1.1      for i in range(data_shape):\n",
            "    10      5000      56028.0     11.2     24.0          data_loc_x = x_val_series[i]\n",
            "    11      5000      55502.0     11.1     23.8          data_loc_y = y_val_series[i]\n",
            "    12      5000       3377.0      0.7      1.4          if data_loc_x not in value_dict:\n",
            "    13        10          7.0      0.7      0.0              value_dict[data_loc_x] = data_loc_y\n",
            "    14        10          7.0      0.7      0.0              count_dict[data_loc_x] = 1\n",
            "    15                                                   else:\n",
            "    16      4990       4339.0      0.9      1.9              value_dict[data_loc_x] += data_loc_y\n",
            "    17      4990       3564.0      0.7      1.5              count_dict[data_loc_x] += 1\n",
            "    18      5001       2443.0      0.5      1.0      for i in range(data_shape):\n",
            "    19      5000      49414.0      9.9     21.2          data_loc_x = x_val_series[i]\n",
            "    20      5000      49072.0      9.8     21.1          data_loc_y = y_val_series[i]\n",
            "    21      5000       6460.0      1.3      2.8          result[i] = (value_dict[data_loc_x] - data_loc_y) / (count_dict[data_loc_x] - 1)\n",
            "    22                                           \n",
            "    23         1          1.0      1.0      0.0      return result\n",
            "\n"
          ],
          "name": "stdout"
        }
      ]
    },
    {
      "cell_type": "markdown",
      "metadata": {
        "id": "n6JbPgXvnm0o"
      },
      "source": [
        "最占时间的是pandas,我们接下来把pandas转换成ndarray"
      ]
    },
    {
      "cell_type": "code",
      "metadata": {
        "id": "DpC_CXTHsw1S"
      },
      "source": [
        "def target_mean_v5(data:pd.DataFrame, y_name:str, x_name:str) -> np.ndarray:\r\n",
        "    data_shape = data.shape[0]\r\n",
        "    result = np.zeros(data_shape)\r\n",
        "    value_dict = dict()\r\n",
        "    count_dict = dict()\r\n",
        "\r\n",
        "    x_val_series = data.loc[:, x_name].values\r\n",
        "    y_val_series = data.loc[:, y_name].values\r\n",
        "    for i in range(data_shape):\r\n",
        "        data_loc_x = x_val_series[i]\r\n",
        "        data_loc_y = y_val_series[i]\r\n",
        "        if data_loc_x not in value_dict:\r\n",
        "            value_dict[data_loc_x] = data_loc_y\r\n",
        "            count_dict[data_loc_x] = 1\r\n",
        "        else:\r\n",
        "            value_dict[data_loc_x] += data_loc_y\r\n",
        "            count_dict[data_loc_x] += 1\r\n",
        "    for i in range(data_shape):\r\n",
        "        data_loc_x = x_val_series[i]\r\n",
        "        data_loc_y = y_val_series[i]\r\n",
        "        result[i] = (value_dict[data_loc_x] - data_loc_y) / (count_dict[data_loc_x] - 1)\r\n",
        "\r\n",
        "    return result"
      ],
      "execution_count": 32,
      "outputs": []
    },
    {
      "cell_type": "code",
      "metadata": {
        "colab": {
          "base_uri": "https://localhost:8080/"
        },
        "id": "9tpKR97It2sd",
        "outputId": "cf2fbf6d-5101-448b-8372-72679ee52217"
      },
      "source": [
        "%%timeit\r\n",
        "target_mean_v5(data,'y','x')"
      ],
      "execution_count": 33,
      "outputs": [
        {
          "output_type": "stream",
          "text": [
            "100 loops, best of 3: 8.3 ms per loop\n"
          ],
          "name": "stdout"
        }
      ]
    },
    {
      "cell_type": "markdown",
      "metadata": {
        "id": "o8XjI4v2oIQO"
      },
      "source": [
        "wow,有10倍左右的提升，真不戳，接下来看看继续分析"
      ]
    },
    {
      "cell_type": "code",
      "metadata": {
        "colab": {
          "base_uri": "https://localhost:8080/"
        },
        "id": "YxFFxXYRt7h9",
        "outputId": "af5c6bc5-d868-4b1d-af88-435e7afc7aa1"
      },
      "source": [
        "profile = LineProfiler(target_mean_v5)\r\n",
        "profile.enable()\r\n",
        "target_mean_v5(data,'y','x')\r\n",
        "profile.disable()\r\n",
        "profile.print_stats()"
      ],
      "execution_count": 34,
      "outputs": [
        {
          "output_type": "stream",
          "text": [
            "Timer unit: 1e-06 s\n",
            "\n",
            "Total time: 0.036717 s\n",
            "File: <ipython-input-32-5f082e605143>\n",
            "Function: target_mean_v5 at line 1\n",
            "\n",
            "Line #      Hits         Time  Per Hit   % Time  Line Contents\n",
            "==============================================================\n",
            "     1                                           def target_mean_v5(data:pd.DataFrame, y_name:str, x_name:str) -> np.ndarray:\n",
            "     2         1         64.0     64.0      0.2      data_shape = data.shape[0]\n",
            "     3         1        106.0    106.0      0.3      result = np.zeros(data_shape)\n",
            "     4         1          2.0      2.0      0.0      value_dict = dict()\n",
            "     5         1          1.0      1.0      0.0      count_dict = dict()\n",
            "     6                                           \n",
            "     7         1        300.0    300.0      0.8      x_val_series = data.loc[:, x_name].values\n",
            "     8         1         75.0     75.0      0.2      y_val_series = data.loc[:, y_name].values\n",
            "     9      5001       2633.0      0.5      7.2      for i in range(data_shape):\n",
            "    10      5000       3738.0      0.7     10.2          data_loc_x = x_val_series[i]\n",
            "    11      5000       3378.0      0.7      9.2          data_loc_y = y_val_series[i]\n",
            "    12      5000       3294.0      0.7      9.0          if data_loc_x not in value_dict:\n",
            "    13        10          5.0      0.5      0.0              value_dict[data_loc_x] = data_loc_y\n",
            "    14        10          6.0      0.6      0.0              count_dict[data_loc_x] = 1\n",
            "    15                                                   else:\n",
            "    16      4990       4427.0      0.9     12.1              value_dict[data_loc_x] += data_loc_y\n",
            "    17      4990       3992.0      0.8     10.9              count_dict[data_loc_x] += 1\n",
            "    18      5001       2459.0      0.5      6.7      for i in range(data_shape):\n",
            "    19      5000       3167.0      0.6      8.6          data_loc_x = x_val_series[i]\n",
            "    20      5000       3061.0      0.6      8.3          data_loc_y = y_val_series[i]\n",
            "    21      5000       6008.0      1.2     16.4          result[i] = (value_dict[data_loc_x] - data_loc_y) / (count_dict[data_loc_x] - 1)\n",
            "    22                                           \n",
            "    23         1          1.0      1.0      0.0      return result\n",
            "\n"
          ],
          "name": "stdout"
        }
      ]
    },
    {
      "cell_type": "markdown",
      "metadata": {
        "id": "PWoJDQ4CpGkJ"
      },
      "source": [
        "这里去掉loc试试"
      ]
    },
    {
      "cell_type": "code",
      "metadata": {
        "id": "2qQLQkVhvJBu"
      },
      "source": [
        "def target_mean_v6(data:pd.DataFrame, y_name:str, x_name:str) -> np.ndarray:\r\n",
        "    data_shape = data.shape[0]\r\n",
        "    result = np.zeros(data_shape)\r\n",
        "    value_dict = dict()\r\n",
        "    count_dict = dict()\r\n",
        "\r\n",
        "    x_val_series = data[x_name].values\r\n",
        "    y_val_series = data[y_name].values\r\n",
        "    for i in range(data_shape):\r\n",
        "        data_loc_x = x_val_series[i]\r\n",
        "        data_loc_y = y_val_series[i]\r\n",
        "        if data_loc_x not in value_dict:\r\n",
        "            value_dict[data_loc_x] = data_loc_y\r\n",
        "            count_dict[data_loc_x] = 1\r\n",
        "        else:\r\n",
        "            value_dict[data_loc_x] += data_loc_y\r\n",
        "            count_dict[data_loc_x] += 1\r\n",
        "    for i in range(data_shape):\r\n",
        "        data_loc_x = x_val_series[i]\r\n",
        "        data_loc_y = y_val_series[i]\r\n",
        "        result[i] = (value_dict[data_loc_x] - data_loc_y) / (count_dict[data_loc_x] - 1)\r\n",
        "\r\n",
        "    return result"
      ],
      "execution_count": 35,
      "outputs": []
    },
    {
      "cell_type": "code",
      "metadata": {
        "colab": {
          "base_uri": "https://localhost:8080/"
        },
        "id": "4SRgOkLVv4z5",
        "outputId": "865f5cb2-a29f-40ba-e575-c08b15c812db"
      },
      "source": [
        "%%timeit\r\n",
        "target_mean_v6(data,'y','x')"
      ],
      "execution_count": 36,
      "outputs": [
        {
          "output_type": "stream",
          "text": [
            "100 loops, best of 3: 8.29 ms per loop\n"
          ],
          "name": "stdout"
        }
      ]
    },
    {
      "cell_type": "markdown",
      "metadata": {
        "id": "xzQOXedhpQ1n"
      },
      "source": [
        "并没有多大的提升，继续分析"
      ]
    },
    {
      "cell_type": "code",
      "metadata": {
        "colab": {
          "base_uri": "https://localhost:8080/"
        },
        "id": "X7FtfFfLv6u4",
        "outputId": "eb2dd048-6de4-4647-be2b-c351a95dded5"
      },
      "source": [
        "profile = LineProfiler(target_mean_v6)\r\n",
        "profile.enable()\r\n",
        "target_mean_v6(data,'y','x')\r\n",
        "profile.disable()\r\n",
        "profile.print_stats()"
      ],
      "execution_count": 37,
      "outputs": [
        {
          "output_type": "stream",
          "text": [
            "Timer unit: 1e-06 s\n",
            "\n",
            "Total time: 0.037406 s\n",
            "File: <ipython-input-35-7925976ae960>\n",
            "Function: target_mean_v6 at line 1\n",
            "\n",
            "Line #      Hits         Time  Per Hit   % Time  Line Contents\n",
            "==============================================================\n",
            "     1                                           def target_mean_v6(data:pd.DataFrame, y_name:str, x_name:str) -> np.ndarray:\n",
            "     2         1         27.0     27.0      0.1      data_shape = data.shape[0]\n",
            "     3         1         39.0     39.0      0.1      result = np.zeros(data_shape)\n",
            "     4         1          1.0      1.0      0.0      value_dict = dict()\n",
            "     5         1          2.0      2.0      0.0      count_dict = dict()\n",
            "     6                                           \n",
            "     7         1         57.0     57.0      0.2      x_val_series = data[x_name].values\n",
            "     8         1         17.0     17.0      0.0      y_val_series = data[y_name].values\n",
            "     9      5001       2914.0      0.6      7.8      for i in range(data_shape):\n",
            "    10      5000       4067.0      0.8     10.9          data_loc_x = x_val_series[i]\n",
            "    11      5000       4088.0      0.8     10.9          data_loc_y = y_val_series[i]\n",
            "    12      5000       3309.0      0.7      8.8          if data_loc_x not in value_dict:\n",
            "    13        10         10.0      1.0      0.0              value_dict[data_loc_x] = data_loc_y\n",
            "    14        10          9.0      0.9      0.0              count_dict[data_loc_x] = 1\n",
            "    15                                                   else:\n",
            "    16      4990       5057.0      1.0     13.5              value_dict[data_loc_x] += data_loc_y\n",
            "    17      4990       3845.0      0.8     10.3              count_dict[data_loc_x] += 1\n",
            "    18      5001       2363.0      0.5      6.3      for i in range(data_shape):\n",
            "    19      5000       2961.0      0.6      7.9          data_loc_x = x_val_series[i]\n",
            "    20      5000       2939.0      0.6      7.9          data_loc_y = y_val_series[i]\n",
            "    21      5000       5700.0      1.1     15.2          result[i] = (value_dict[data_loc_x] - data_loc_y) / (count_dict[data_loc_x] - 1)\n",
            "    22                                           \n",
            "    23         1          1.0      1.0      0.0      return result\n",
            "\n"
          ],
          "name": "stdout"
        }
      ]
    },
    {
      "cell_type": "markdown",
      "metadata": {
        "id": "yZOqwNIQpZ_B"
      },
      "source": [
        "在python中优化的差不多了，然后用cython做优化"
      ]
    },
    {
      "cell_type": "code",
      "metadata": {
        "id": "3kXsOauNv_9y"
      },
      "source": [
        "%load_ext Cython"
      ],
      "execution_count": 40,
      "outputs": []
    },
    {
      "cell_type": "markdown",
      "metadata": {
        "id": "fVx3S3Empion"
      },
      "source": [
        "接下来的是测试python中tensor的类型"
      ]
    },
    {
      "cell_type": "code",
      "metadata": {
        "colab": {
          "base_uri": "https://localhost:8080/"
        },
        "id": "QiXmtB-b1MeW",
        "outputId": "a62160f9-3af9-45ed-ccbc-c8913af57bb0"
      },
      "source": [
        "a = np.zeros((5,1))\r\n",
        "a.dtype\r\n",
        "b = data['y'].values\r\n",
        "b.dtype "
      ],
      "execution_count": 38,
      "outputs": [
        {
          "output_type": "execute_result",
          "data": {
            "text/plain": [
              "dtype('int64')"
            ]
          },
          "metadata": {
            "tags": []
          },
          "execution_count": 38
        }
      ]
    },
    {
      "cell_type": "markdown",
      "metadata": {
        "id": "rIT6XVQApqNx"
      },
      "source": [
        "遵循的原则是：\r\n",
        "1.所有类型都有type\r\n",
        "2.注意numpy的排序（行/列优先）\r\n",
        "3.尽量使用C++自带的数据结构\r\n",
        "4.所有内存分配都应该在python中完成，临时变量用C++类进行构建\r\n",
        "5.通用方法:numpy—>C "
      ]
    },
    {
      "cell_type": "code",
      "metadata": {
        "id": "cPZKBbKTwnJb"
      },
      "source": [
        "%%cython \r\n",
        "import numpy as np\r\n",
        "cimport numpy as cnp\r\n",
        "import pandas as pd\r\n",
        "def target_mean_v7(data:pd.DataFrame, y_name:str, x_name:str) ->np.ndarray:\r\n",
        "  cdef:\r\n",
        "    int data_shape = data.shape[0]\r\n",
        "    cnp.ndarray[cnp.float64_t] result= np.zeros(data_shape)\r\n",
        "    dict value_dict = {}\r\n",
        "    dict count_dict = {}\r\n",
        "    cnp.ndarray[cnp.int64_t] x_val_series = data[x_name].values\r\n",
        "    cnp.ndarray[cnp.int64_t] y_val_series = data[y_name].values\r\n",
        "  for i in range(data_shape):\r\n",
        "    data_loc_x = x_val_series[i]\r\n",
        "    data_loc_y = y_val_series[i]\r\n",
        "    if data_loc_x not in value_dict:\r\n",
        "      value_dict[data_loc_x] = data_loc_y\r\n",
        "      count_dict[data_loc_x] = 1\r\n",
        "    else:\r\n",
        "      value_dict[data_loc_x] += data_loc_y\r\n",
        "      count_dict[data_loc_x] += 1\r\n",
        "  for i in range(data_shape):\r\n",
        "    data_loc_x = x_val_series[i]\r\n",
        "    data_loc_y = y_val_series[i]\r\n",
        "    result[i] = (value_dict[data_loc_x]-data_loc_y) / (count_dict[data_loc_x]-1)\r\n",
        "  return result\r\n",
        "\r\n",
        "    "
      ],
      "execution_count": 43,
      "outputs": []
    },
    {
      "cell_type": "code",
      "metadata": {
        "colab": {
          "base_uri": "https://localhost:8080/"
        },
        "id": "oezwHumk5dlM",
        "outputId": "3fa73a42-3f9c-47d6-b2ce-85ecb211c5ed"
      },
      "source": [
        "%%timeit\r\n",
        "target_mean_v7(data,'y','x')"
      ],
      "execution_count": 44,
      "outputs": [
        {
          "output_type": "stream",
          "text": [
            "1000 loops, best of 3: 1.05 ms per loop\n"
          ],
          "name": "stdout"
        }
      ]
    },
    {
      "cell_type": "markdown",
      "metadata": {
        "id": "yQztre1FrTXB"
      },
      "source": [
        "有了8倍的飞跃，接下来我们用openmp 并行继续优化"
      ]
    },
    {
      "cell_type": "code",
      "metadata": {
        "id": "0Evg1oIerVoO"
      },
      "source": [
        "%%cython \r\n",
        "import numpy as np\r\n",
        "cimport numpy as cnp\r\n",
        "import pandas as pd\r\n",
        "import cython\r\n",
        "cimport cython\r\n",
        "\r\n",
        "from cython.parallel import prange\r\n",
        "cpdef target_mean_v8(data,cnp.str y_name, cnp.str x_name):\r\n",
        "  cdef:\r\n",
        "    int data_shape = data.shape[0]\r\n",
        "    double[:,] result = np.zeros(data_shape,dtype=np.float64)\r\n",
        "    double[:,] value_dict = np.zeros(10,dtype=np.float64)\r\n",
        "    double[:,] count_dict = np.zeros(10,dtype=np.float64)\r\n",
        "    long[:,] x_val_array = data[x_name].values\r\n",
        "    long[:,] y_val_array = data[y_name].values\r\n",
        "    int i = 0\r\n",
        "  for i in prange(data_shape, nogil=True):\r\n",
        "    value_dict[x_val_array[i]] += y_val_array[i]\r\n",
        "    count_dict[x_val_array[i]] += 1\r\n",
        "  for i in prange(data_shape, nogil=True):\r\n",
        "    result[i] = (value_dict[x_val_array[i]] - y_val_array[i])/(count_dict[x_val_array[i]] -1)\r\n",
        "\r\n",
        "  return result\r\n",
        "\r\n"
      ],
      "execution_count": 63,
      "outputs": []
    },
    {
      "cell_type": "code",
      "metadata": {
        "colab": {
          "base_uri": "https://localhost:8080/"
        },
        "id": "BvcKOozlw5fm",
        "outputId": "dba3d601-46f7-4bd1-e949-d9b498b9a4a1"
      },
      "source": [
        "%%timeit\r\n",
        "target_mean_v8(data,'y','x')"
      ],
      "execution_count": 64,
      "outputs": [
        {
          "output_type": "stream",
          "text": [
            "The slowest run took 7.24 times longer than the fastest. This could mean that an intermediate result is being cached.\n",
            "10000 loops, best of 3: 61.2 µs per loop\n"
          ],
          "name": "stdout"
        }
      ]
    },
    {
      "cell_type": "code",
      "metadata": {
        "id": "OdWpQX_MxKfk"
      },
      "source": [
        ""
      ],
      "execution_count": null,
      "outputs": []
    }
  ]
}