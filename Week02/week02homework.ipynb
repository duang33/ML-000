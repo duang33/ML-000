{
  "nbformat": 4,
  "nbformat_minor": 0,
  "metadata": {
    "colab": {
      "name": "week02homework.ipynb",
      "provenance": [],
      "collapsed_sections": []
    },
    "kernelspec": {
      "name": "python3",
      "display_name": "Python 3"
    }
  },
  "cells": [
    {
      "cell_type": "code",
      "metadata": {
        "id": "2NZtAK6s0p2C"
      },
      "source": [
        "import numpy as np\r\n",
        "import pandas as pd\r\n"
      ],
      "execution_count": 6,
      "outputs": []
    },
    {
      "cell_type": "markdown",
      "metadata": {
        "id": "rkXxTn7DhPj1"
      },
      "source": [
        "提前导入line_profiler用于分析python代码"
      ]
    },
    {
      "cell_type": "code",
      "metadata": {
        "id": "rk222UO9gVc9",
        "colab": {
          "base_uri": "https://localhost:8080/"
        },
        "outputId": "a4680bb0-e55d-43ef-c003-049d03a67c9a"
      },
      "source": [
        "pip install line_profiler"
      ],
      "execution_count": 7,
      "outputs": [
        {
          "output_type": "stream",
          "text": [
            "Collecting line_profiler\n",
            "\u001b[?25l  Downloading https://files.pythonhosted.org/packages/66/eb/417ace64f45fee7a0394946f8e1f90f925420fd9b14f1f09abb5284a0ca4/line_profiler-3.1.0-cp36-cp36m-manylinux2010_x86_64.whl (63kB)\n",
            "\r\u001b[K     |█████▏                          | 10kB 18.0MB/s eta 0:00:01\r\u001b[K     |██████████▎                     | 20kB 20.2MB/s eta 0:00:01\r\u001b[K     |███████████████▍                | 30kB 11.9MB/s eta 0:00:01\r\u001b[K     |████████████████████▌           | 40kB 9.1MB/s eta 0:00:01\r\u001b[K     |█████████████████████████▋      | 51kB 4.3MB/s eta 0:00:01\r\u001b[K     |██████████████████████████████▊ | 61kB 4.8MB/s eta 0:00:01\r\u001b[K     |████████████████████████████████| 71kB 3.7MB/s \n",
            "\u001b[?25hRequirement already satisfied: IPython in /usr/local/lib/python3.6/dist-packages (from line_profiler) (5.5.0)\n",
            "Requirement already satisfied: pygments in /usr/local/lib/python3.6/dist-packages (from IPython->line_profiler) (2.6.1)\n",
            "Requirement already satisfied: simplegeneric>0.8 in /usr/local/lib/python3.6/dist-packages (from IPython->line_profiler) (0.8.1)\n",
            "Requirement already satisfied: prompt-toolkit<2.0.0,>=1.0.4 in /usr/local/lib/python3.6/dist-packages (from IPython->line_profiler) (1.0.18)\n",
            "Requirement already satisfied: pickleshare in /usr/local/lib/python3.6/dist-packages (from IPython->line_profiler) (0.7.5)\n",
            "Requirement already satisfied: pexpect; sys_platform != \"win32\" in /usr/local/lib/python3.6/dist-packages (from IPython->line_profiler) (4.8.0)\n",
            "Requirement already satisfied: traitlets>=4.2 in /usr/local/lib/python3.6/dist-packages (from IPython->line_profiler) (4.3.3)\n",
            "Requirement already satisfied: decorator in /usr/local/lib/python3.6/dist-packages (from IPython->line_profiler) (4.4.2)\n",
            "Requirement already satisfied: setuptools>=18.5 in /usr/local/lib/python3.6/dist-packages (from IPython->line_profiler) (51.1.1)\n",
            "Requirement already satisfied: wcwidth in /usr/local/lib/python3.6/dist-packages (from prompt-toolkit<2.0.0,>=1.0.4->IPython->line_profiler) (0.2.5)\n",
            "Requirement already satisfied: six>=1.9.0 in /usr/local/lib/python3.6/dist-packages (from prompt-toolkit<2.0.0,>=1.0.4->IPython->line_profiler) (1.15.0)\n",
            "Requirement already satisfied: ptyprocess>=0.5 in /usr/local/lib/python3.6/dist-packages (from pexpect; sys_platform != \"win32\"->IPython->line_profiler) (0.7.0)\n",
            "Requirement already satisfied: ipython-genutils in /usr/local/lib/python3.6/dist-packages (from traitlets>=4.2->IPython->line_profiler) (0.2.0)\n",
            "Installing collected packages: line-profiler\n",
            "Successfully installed line-profiler-3.1.0\n"
          ],
          "name": "stdout"
        }
      ]
    },
    {
      "cell_type": "code",
      "metadata": {
        "id": "Vu5O3Ni0nJPi"
      },
      "source": [
        "x = np.random.randint(10,size=(5000,1))\r\n",
        "y = np.random.randint(2,size=(5000,1))\r\n",
        "data = pd.DataFrame(np.concatenate([y,x],axis=1),columns=['y', 'x'])"
      ],
      "execution_count": 8,
      "outputs": []
    },
    {
      "cell_type": "code",
      "metadata": {
        "id": "klPOq0IXcsVI"
      },
      "source": [
        "def target_mean_v1(data, y_name, x_name):\r\n",
        "  result = np.zeros(data.shape[0])\r\n",
        "  for i in range(data.shape[0]):\r\n",
        "    groupby_result = data[data.index != i].groupby([x_name], as_index=False).agg(['mean', 'count'])\r\n",
        "    result[i] = groupby_result.loc[groupby_result.index == data.loc[i, x_name], (y_name, 'mean')]\r\n",
        "  return result\r\n",
        "\r\n"
      ],
      "execution_count": 9,
      "outputs": []
    },
    {
      "cell_type": "code",
      "metadata": {
        "colab": {
          "base_uri": "https://localhost:8080/"
        },
        "id": "4VhawdmLd7ZQ",
        "outputId": "725efa31-c566-4269-e7eb-d88848aa4fb6"
      },
      "source": [
        "%%timeit\r\n",
        "target_mean_v1(data,'y','x')"
      ],
      "execution_count": 10,
      "outputs": [
        {
          "output_type": "stream",
          "text": [
            "1 loop, best of 3: 23.1 s per loop\n"
          ],
          "name": "stdout"
        }
      ]
    },
    {
      "cell_type": "markdown",
      "metadata": {
        "id": "wCnV7v1miRje"
      },
      "source": [
        "花的时间太多了，下面利用profiler分析每一行语句所用的时间"
      ]
    },
    {
      "cell_type": "code",
      "metadata": {
        "colab": {
          "base_uri": "https://localhost:8080/"
        },
        "id": "uGaERjcqibpF",
        "outputId": "452a8a5f-e140-4f78-93ac-a6acc2a7412f"
      },
      "source": [
        "from line_profiler import LineProfiler \r\n",
        "profile = LineProfiler(target_mean_v1)\r\n",
        "profile.enable()\r\n",
        "target_mean_v1(data,'y','x')\r\n",
        "profile.disable()\r\n",
        "profile.print_stats()"
      ],
      "execution_count": 11,
      "outputs": [
        {
          "output_type": "stream",
          "text": [
            "Timer unit: 1e-06 s\n",
            "\n",
            "Total time: 47.9949 s\n",
            "File: <ipython-input-9-ce8f8ebb5d69>\n",
            "Function: target_mean_v1 at line 1\n",
            "\n",
            "Line #      Hits         Time  Per Hit   % Time  Line Contents\n",
            "==============================================================\n",
            "     1                                           def target_mean_v1(data, y_name, x_name):\n",
            "     2         1        668.0    668.0      0.0    result = np.zeros(data.shape[0])\n",
            "     3      5001       9920.0      2.0      0.0    for i in range(data.shape[0]):\n",
            "     4      5000   40392904.0   8078.6     84.2      groupby_result = data[data.index != i].groupby([x_name], as_index=False).agg(['mean', 'count'])\n",
            "     5      5000    7591399.0   1518.3     15.8      result[i] = groupby_result.loc[groupby_result.index == data.loc[i, x_name], (y_name, 'mean')]\n",
            "     6         1          1.0      1.0      0.0    return result\n",
            "\n"
          ],
          "name": "stdout"
        }
      ]
    },
    {
      "cell_type": "markdown",
      "metadata": {
        "id": "YfC7V6xSjE2e"
      },
      "source": [
        "上图可见最严重的就是group_by,因为每个group_by都是一个循环遍历，接下来我们试着去掉groupby"
      ]
    },
    {
      "cell_type": "code",
      "metadata": {
        "id": "l4o2TXUjfTol"
      },
      "source": [
        "def target_mean_v2(data: pd.DataFrame, y_name: str, x_name: str) ->np.ndarray:\r\n",
        "  result = np.zeros(data.shape[0])\r\n",
        "  value_dict = dict()\r\n",
        "  count_dict = dict()\r\n",
        "  for i in range(data.shape[0]):\r\n",
        "    if data.loc[i, x_name] not in value_dict.keys():\r\n",
        "      value_dict[data.loc[i, x_name]] = data.loc[i, y_name]\r\n",
        "      count_dict[data.loc[i, x_name]] = 1\r\n",
        "    else:\r\n",
        "      value_dict[data.loc[i, x_name]] += data.loc[i, y_name]\r\n",
        "      count_dict[data.loc[i, x_name]] += 1\r\n",
        "  for i in range(data.shape[0]):\r\n",
        "    result[i]=(value_dict[data.loc[i,x_name]] - data.loc[i, y_name])/(count_dict[data.loc[i, x_name]]-1)"
      ],
      "execution_count": 22,
      "outputs": []
    },
    {
      "cell_type": "code",
      "metadata": {
        "colab": {
          "base_uri": "https://localhost:8080/"
        },
        "id": "6dt8WgH5eYV0",
        "outputId": "35464387-25c8-485f-dc6e-5891e59324ff"
      },
      "source": [
        "%%timeit\r\n",
        "target_mean_v2(data,'y','x')"
      ],
      "execution_count": 24,
      "outputs": [
        {
          "output_type": "stream",
          "text": [
            "1 loop, best of 3: 259 ms per loop\n"
          ],
          "name": "stdout"
        }
      ]
    },
    {
      "cell_type": "markdown",
      "metadata": {
        "id": "h90sEhuPlVrA"
      },
      "source": [
        "可以看到我们有了几百倍的速度提升，接下来我们继续分析它的代码\r\n"
      ]
    },
    {
      "cell_type": "code",
      "metadata": {
        "colab": {
          "base_uri": "https://localhost:8080/"
        },
        "id": "dVxh94jGfdol",
        "outputId": "dd51087e-591c-47b6-a313-de655f1c3f39"
      },
      "source": [
        "from line_profiler import LineProfiler\r\n",
        "profile = LineProfiler(target_mean_v2)\r\n",
        "profile.enable()\r\n",
        "target_mean_v2(data,'y','x')\r\n",
        "profile.disable()\r\n",
        "profile.print_stats()"
      ],
      "execution_count": 25,
      "outputs": [
        {
          "output_type": "stream",
          "text": [
            "Timer unit: 1e-06 s\n",
            "\n",
            "Total time: 0.700698 s\n",
            "File: <ipython-input-22-602f1d6e82dd>\n",
            "Function: target_mean_v2 at line 1\n",
            "\n",
            "Line #      Hits         Time  Per Hit   % Time  Line Contents\n",
            "==============================================================\n",
            "     1                                           def target_mean_v2(data: pd.DataFrame, y_name: str, x_name: str) ->np.ndarray:\n",
            "     2         1         58.0     58.0      0.0    result = np.zeros(data.shape[0])\n",
            "     3         1          2.0      2.0      0.0    value_dict = dict()\n",
            "     4         1          1.0      1.0      0.0    count_dict = dict()\n",
            "     5      5001       2742.0      0.5      0.4    for i in range(data.shape[0]):\n",
            "     6      5000     101959.0     20.4     14.6      if data.loc[i, x_name] not in value_dict.keys():\n",
            "     7        10        485.0     48.5      0.1        value_dict[data.loc[i, x_name]] = data.loc[i, y_name]\n",
            "     8        10        243.0     24.3      0.0        count_dict[data.loc[i, x_name]] = 1\n",
            "     9                                               else:\n",
            "    10      4990     198437.0     39.8     28.3        value_dict[data.loc[i, x_name]] += data.loc[i, y_name]\n",
            "    11      4990     100681.0     20.2     14.4        count_dict[data.loc[i, x_name]] += 1\n",
            "    12      5001       2790.0      0.6      0.4    for i in range(data.shape[0]):\n",
            "    13      5000     293300.0     58.7     41.9      result[i]=(value_dict[data.loc[i,x_name]] - data.loc[i, y_name])/(count_dict[data.loc[i, x_name]]-1)\n",
            "\n"
          ],
          "name": "stdout"
        }
      ]
    },
    {
      "cell_type": "markdown",
      "metadata": {
        "id": "OMBftCxqlmt3"
      },
      "source": [
        "这里我们发现有data.loc的地方时间比较多，假设是它的锅，我们试着用变量一次代替它多次"
      ]
    },
    {
      "cell_type": "code",
      "metadata": {
        "id": "rARdb8B5iViu"
      },
      "source": [
        "\r\n",
        "def target_mean_v3(data:pd.DataFrame, y_name:str,x_name:str) ->np.ndarray:\r\n",
        "  data_shape = data.shape[0]\r\n",
        "  result=np.zeros(data_shape)\r\n",
        "  value_dict=dict()\r\n",
        "  count_dict=dict()\r\n",
        "  for i in range(data_shape):\r\n",
        "    data_loc_x = data.loc[i,x_name]\r\n",
        "    data_loc_y = data.loc[i,y_name]\r\n",
        "    if data_loc_x not in value_dict:\r\n",
        "      value_dict[data_loc_x]= data_loc_y\r\n",
        "      count_dict[data_loc_x] = 1\r\n",
        "    else:\r\n",
        "      value_dict[data_loc_x] += data_loc_y\r\n",
        "      count_dict[data_loc_x] += 1\r\n",
        "  for i in range(data_shape):\r\n",
        "    data_loc_x = data.loc[i, x_name]\r\n",
        "    data_loc_y = data.loc[i, y_name]\r\n",
        "    result[i] = (value_dict[data_loc_x]- data_loc_y)/(count_dict[data_loc_x]-1)\r\n",
        "  return result"
      ],
      "execution_count": 26,
      "outputs": []
    },
    {
      "cell_type": "code",
      "metadata": {
        "colab": {
          "base_uri": "https://localhost:8080/"
        },
        "id": "IBZRL2SKmQNc",
        "outputId": "61824817-0dcf-44a2-b7de-957af4c6c36a"
      },
      "source": [
        "%%timeit\r\n",
        "target_mean_v3(data,'y','x')"
      ],
      "execution_count": 27,
      "outputs": [
        {
          "output_type": "stream",
          "text": [
            "10 loops, best of 3: 151 ms per loop\n"
          ],
          "name": "stdout"
        }
      ]
    },
    {
      "cell_type": "markdown",
      "metadata": {
        "id": "g-PprcCml97O"
      },
      "source": [
        "我们看到有了不到两倍的提升，接下来我们再来分析它每行的时间继续优化"
      ]
    },
    {
      "cell_type": "code",
      "metadata": {
        "colab": {
          "base_uri": "https://localhost:8080/"
        },
        "id": "DSPkImLTmsql",
        "outputId": "8d3fae0b-9ad4-4a6d-97ee-b02f614d37ac"
      },
      "source": [
        "\r\n",
        "profile = LineProfiler(target_mean_v3)\r\n",
        "profile.enable()\r\n",
        "target_mean_v3(data,'y','x')\r\n",
        "profile.disable()\r\n",
        "profile.print_stats()"
      ],
      "execution_count": 28,
      "outputs": [
        {
          "output_type": "stream",
          "text": [
            "Timer unit: 1e-06 s\n",
            "\n",
            "Total time: 0.418692 s\n",
            "File: <ipython-input-26-95a93e4b3507>\n",
            "Function: target_mean_v3 at line 2\n",
            "\n",
            "Line #      Hits         Time  Per Hit   % Time  Line Contents\n",
            "==============================================================\n",
            "     2                                           def target_mean_v3(data:pd.DataFrame, y_name:str,x_name:str) ->np.ndarray:\n",
            "     3         1         78.0     78.0      0.0    data_shape = data.shape[0]\n",
            "     4         1        115.0    115.0      0.0    result=np.zeros(data_shape)\n",
            "     5         1          2.0      2.0      0.0    value_dict=dict()\n",
            "     6         1          1.0      1.0      0.0    count_dict=dict()\n",
            "     7      5001       2497.0      0.5      0.6    for i in range(data_shape):\n",
            "     8      5000     102890.0     20.6     24.6      data_loc_x = data.loc[i,x_name]\n",
            "     9      5000     101681.0     20.3     24.3      data_loc_y = data.loc[i,y_name]\n",
            "    10      5000       3291.0      0.7      0.8      if data_loc_x not in value_dict:\n",
            "    11        10          6.0      0.6      0.0        value_dict[data_loc_x]= data_loc_y\n",
            "    12        10          5.0      0.5      0.0        count_dict[data_loc_x] = 1\n",
            "    13                                               else:\n",
            "    14      4990       4622.0      0.9      1.1        value_dict[data_loc_x] += data_loc_y\n",
            "    15      4990       3412.0      0.7      0.8        count_dict[data_loc_x] += 1\n",
            "    16      5001       2556.0      0.5      0.6    for i in range(data_shape):\n",
            "    17      5000      95672.0     19.1     22.9      data_loc_x = data.loc[i, x_name]\n",
            "    18      5000      94653.0     18.9     22.6      data_loc_y = data.loc[i, y_name]\n",
            "    19      5000       7211.0      1.4      1.7      result[i] = (value_dict[data_loc_x]- data_loc_y)/(count_dict[data_loc_x]-1)\n",
            "    20         1          0.0      0.0      0.0    return result\n",
            "\n"
          ],
          "name": "stdout"
        }
      ]
    },
    {
      "cell_type": "markdown",
      "metadata": {
        "id": "BtPPihyAnNTo"
      },
      "source": [
        "看着还是loc浪费时间，把他移除循环"
      ]
    },
    {
      "cell_type": "code",
      "metadata": {
        "id": "nOCho7V8nu4S"
      },
      "source": [
        "def target_mean_v4(data:pd.DataFrame, y_name:str, x_name:str) -> np.ndarray:\r\n",
        "    data_shape = data.shape[0]\r\n",
        "    result = np.zeros(data_shape)\r\n",
        "    value_dict = dict()\r\n",
        "    count_dict = dict()\r\n",
        "\r\n",
        "    x_val_series = data.loc[:, x_name]\r\n",
        "    y_val_series = data.loc[:, y_name]\r\n",
        "    for i in range(data_shape):\r\n",
        "        data_loc_x = x_val_series[i]\r\n",
        "        data_loc_y = y_val_series[i]\r\n",
        "        if data_loc_x not in value_dict:\r\n",
        "            value_dict[data_loc_x] = data_loc_y\r\n",
        "            count_dict[data_loc_x] = 1\r\n",
        "        else:\r\n",
        "            value_dict[data_loc_x] += data_loc_y\r\n",
        "            count_dict[data_loc_x] += 1\r\n",
        "    for i in range(data_shape):\r\n",
        "        data_loc_x = x_val_series[i]\r\n",
        "        data_loc_y = y_val_series[i]\r\n",
        "        result[i] = (value_dict[data_loc_x] - data_loc_y) / (count_dict[data_loc_x] - 1)\r\n",
        "\r\n",
        "    return result"
      ],
      "execution_count": 29,
      "outputs": []
    },
    {
      "cell_type": "code",
      "metadata": {
        "colab": {
          "base_uri": "https://localhost:8080/"
        },
        "id": "6ICWtg8KorPR",
        "outputId": "56c8f044-a092-426c-fe83-98ca5b7b1e93"
      },
      "source": [
        "%%timeit\r\n",
        "target_mean_v4(data,'y','x')"
      ],
      "execution_count": 30,
      "outputs": [
        {
          "output_type": "stream",
          "text": [
            "10 loops, best of 3: 73.2 ms per loop\n"
          ],
          "name": "stdout"
        }
      ]
    },
    {
      "cell_type": "markdown",
      "metadata": {
        "id": "M73Js8PFnaRp"
      },
      "source": [
        "又有了两倍左右的提升，我们接下来继续分析它的代码"
      ]
    },
    {
      "cell_type": "code",
      "metadata": {
        "colab": {
          "base_uri": "https://localhost:8080/"
        },
        "id": "CrGP4EWNsqyq",
        "outputId": "a3abc88f-df22-4b43-d6cf-9d93f22d43ad"
      },
      "source": [
        "profile = LineProfiler(target_mean_v4)\r\n",
        "profile.enable()\r\n",
        "target_mean_v4(data,'y','x')\r\n",
        "profile.disable()\r\n",
        "profile.print_stats()"
      ],
      "execution_count": 31,
      "outputs": [
        {
          "output_type": "stream",
          "text": [
            "Timer unit: 1e-06 s\n",
            "\n",
            "Total time: 0.233046 s\n",
            "File: <ipython-input-29-4dd6ebabfe45>\n",
            "Function: target_mean_v4 at line 1\n",
            "\n",
            "Line #      Hits         Time  Per Hit   % Time  Line Contents\n",
            "==============================================================\n",
            "     1                                           def target_mean_v4(data:pd.DataFrame, y_name:str, x_name:str) -> np.ndarray:\n",
            "     2         1         22.0     22.0      0.0      data_shape = data.shape[0]\n",
            "     3         1         33.0     33.0      0.0      result = np.zeros(data_shape)\n",
            "     4         1          2.0      2.0      0.0      value_dict = dict()\n",
            "     5         1          1.0      1.0      0.0      count_dict = dict()\n",
            "     6                                           \n",
            "     7         1        171.0    171.0      0.1      x_val_series = data.loc[:, x_name]\n",
            "     8         1         68.0     68.0      0.0      y_val_series = data.loc[:, y_name]\n",
            "     9      5001       2535.0      0.5      1.1      for i in range(data_shape):\n",
            "    10      5000      56028.0     11.2     24.0          data_loc_x = x_val_series[i]\n",
            "    11      5000      55502.0     11.1     23.8          data_loc_y = y_val_series[i]\n",
            "    12      5000       3377.0      0.7      1.4          if data_loc_x not in value_dict:\n",
            "    13        10          7.0      0.7      0.0              value_dict[data_loc_x] = data_loc_y\n",
            "    14        10          7.0      0.7      0.0              count_dict[data_loc_x] = 1\n",
            "    15                                                   else:\n",
            "    16      4990       4339.0      0.9      1.9              value_dict[data_loc_x] += data_loc_y\n",
            "    17      4990       3564.0      0.7      1.5              count_dict[data_loc_x] += 1\n",
            "    18      5001       2443.0      0.5      1.0      for i in range(data_shape):\n",
            "    19      5000      49414.0      9.9     21.2          data_loc_x = x_val_series[i]\n",
            "    20      5000      49072.0      9.8     21.1          data_loc_y = y_val_series[i]\n",
            "    21      5000       6460.0      1.3      2.8          result[i] = (value_dict[data_loc_x] - data_loc_y) / (count_dict[data_loc_x] - 1)\n",
            "    22                                           \n",
            "    23         1          1.0      1.0      0.0      return result\n",
            "\n"
          ],
          "name": "stdout"
        }
      ]
    },
    {
      "cell_type": "markdown",
      "metadata": {
        "id": "n6JbPgXvnm0o"
      },
      "source": [
        "最占时间的是pandas,我们接下来把pandas转换成ndarray"
      ]
    },
    {
      "cell_type": "code",
      "metadata": {
        "id": "DpC_CXTHsw1S"
      },
      "source": [
        "def target_mean_v5(data:pd.DataFrame, y_name:str, x_name:str) -> np.ndarray:\r\n",
        "    data_shape = data.shape[0]\r\n",
        "    result = np.zeros(data_shape)\r\n",
        "    value_dict = dict()\r\n",
        "    count_dict = dict()\r\n",
        "\r\n",
        "    x_val_series = data.loc[:, x_name].values\r\n",
        "    y_val_series = data.loc[:, y_name].values\r\n",
        "    for i in range(data_shape):\r\n",
        "        data_loc_x = x_val_series[i]\r\n",
        "        data_loc_y = y_val_series[i]\r\n",
        "        if data_loc_x not in value_dict:\r\n",
        "            value_dict[data_loc_x] = data_loc_y\r\n",
        "            count_dict[data_loc_x] = 1\r\n",
        "        else:\r\n",
        "            value_dict[data_loc_x] += data_loc_y\r\n",
        "            count_dict[data_loc_x] += 1\r\n",
        "    for i in range(data_shape):\r\n",
        "        data_loc_x = x_val_series[i]\r\n",
        "        data_loc_y = y_val_series[i]\r\n",
        "        result[i] = (value_dict[data_loc_x] - data_loc_y) / (count_dict[data_loc_x] - 1)\r\n",
        "\r\n",
        "    return result"
      ],
      "execution_count": 32,
      "outputs": []
    },
    {
      "cell_type": "code",
      "metadata": {
        "colab": {
          "base_uri": "https://localhost:8080/"
        },
        "id": "9tpKR97It2sd",
        "outputId": "cf2fbf6d-5101-448b-8372-72679ee52217"
      },
      "source": [
        "%%timeit\r\n",
        "target_mean_v5(data,'y','x')"
      ],
      "execution_count": 33,
      "outputs": [
        {
          "output_type": "stream",
          "text": [
            "100 loops, best of 3: 8.3 ms per loop\n"
          ],
          "name": "stdout"
        }
      ]
    },
    {
      "cell_type": "markdown",
      "metadata": {
        "id": "o8XjI4v2oIQO"
      },
      "source": [
        "wow,有10倍左右的提升，真不戳，接下来看看继续分析"
      ]
    },
    {
      "cell_type": "code",
      "metadata": {
        "colab": {
          "base_uri": "https://localhost:8080/"
        },
        "id": "YxFFxXYRt7h9",
        "outputId": "af5c6bc5-d868-4b1d-af88-435e7afc7aa1"
      },
      "source": [
        "profile = LineProfiler(target_mean_v5)\r\n",
        "profile.enable()\r\n",
        "target_mean_v5(data,'y','x')\r\n",
        "profile.disable()\r\n",
        "profile.print_stats()"
      ],
      "execution_count": 34,
      "outputs": [
        {
          "output_type": "stream",
          "text": [
            "Timer unit: 1e-06 s\n",
            "\n",
            "Total time: 0.036717 s\n",
            "File: <ipython-input-32-5f082e605143>\n",
            "Function: target_mean_v5 at line 1\n",
            "\n",
            "Line #      Hits         Time  Per Hit   % Time  Line Contents\n",
            "==============================================================\n",
            "     1                                           def target_mean_v5(data:pd.DataFrame, y_name:str, x_name:str) -> np.ndarray:\n",
            "     2         1         64.0     64.0      0.2      data_shape = data.shape[0]\n",
            "     3         1        106.0    106.0      0.3      result = np.zeros(data_shape)\n",
            "     4         1          2.0      2.0      0.0      value_dict = dict()\n",
            "     5         1          1.0      1.0      0.0      count_dict = dict()\n",
            "     6                                           \n",
            "     7         1        300.0    300.0      0.8      x_val_series = data.loc[:, x_name].values\n",
            "     8         1         75.0     75.0      0.2      y_val_series = data.loc[:, y_name].values\n",
            "     9      5001       2633.0      0.5      7.2      for i in range(data_shape):\n",
            "    10      5000       3738.0      0.7     10.2          data_loc_x = x_val_series[i]\n",
            "    11      5000       3378.0      0.7      9.2          data_loc_y = y_val_series[i]\n",
            "    12      5000       3294.0      0.7      9.0          if data_loc_x not in value_dict:\n",
            "    13        10          5.0      0.5      0.0              value_dict[data_loc_x] = data_loc_y\n",
            "    14        10          6.0      0.6      0.0              count_dict[data_loc_x] = 1\n",
            "    15                                                   else:\n",
            "    16      4990       4427.0      0.9     12.1              value_dict[data_loc_x] += data_loc_y\n",
            "    17      4990       3992.0      0.8     10.9              count_dict[data_loc_x] += 1\n",
            "    18      5001       2459.0      0.5      6.7      for i in range(data_shape):\n",
            "    19      5000       3167.0      0.6      8.6          data_loc_x = x_val_series[i]\n",
            "    20      5000       3061.0      0.6      8.3          data_loc_y = y_val_series[i]\n",
            "    21      5000       6008.0      1.2     16.4          result[i] = (value_dict[data_loc_x] - data_loc_y) / (count_dict[data_loc_x] - 1)\n",
            "    22                                           \n",
            "    23         1          1.0      1.0      0.0      return result\n",
            "\n"
          ],
          "name": "stdout"
        }
      ]
    },
    {
      "cell_type": "markdown",
      "metadata": {
        "id": "PWoJDQ4CpGkJ"
      },
      "source": [
        "这里去掉loc试试"
      ]
    },
    {
      "cell_type": "code",
      "metadata": {
        "id": "2qQLQkVhvJBu"
      },
      "source": [
        "def target_mean_v6(data:pd.DataFrame, y_name:str, x_name:str) -> np.ndarray:\r\n",
        "    data_shape = data.shape[0]\r\n",
        "    result = np.zeros(data_shape)\r\n",
        "    value_dict = dict()\r\n",
        "    count_dict = dict()\r\n",
        "\r\n",
        "    x_val_series = data[x_name].values\r\n",
        "    y_val_series = data[y_name].values\r\n",
        "    for i in range(data_shape):\r\n",
        "        data_loc_x = x_val_series[i]\r\n",
        "        data_loc_y = y_val_series[i]\r\n",
        "        if data_loc_x not in value_dict:\r\n",
        "            value_dict[data_loc_x] = data_loc_y\r\n",
        "            count_dict[data_loc_x] = 1\r\n",
        "        else:\r\n",
        "            value_dict[data_loc_x] += data_loc_y\r\n",
        "            count_dict[data_loc_x] += 1\r\n",
        "    for i in range(data_shape):\r\n",
        "        data_loc_x = x_val_series[i]\r\n",
        "        data_loc_y = y_val_series[i]\r\n",
        "        result[i] = (value_dict[data_loc_x] - data_loc_y) / (count_dict[data_loc_x] - 1)\r\n",
        "\r\n",
        "    return result"
      ],
      "execution_count": 35,
      "outputs": []
    },
    {
      "cell_type": "code",
      "metadata": {
        "colab": {
          "base_uri": "https://localhost:8080/"
        },
        "id": "4SRgOkLVv4z5",
        "outputId": "865f5cb2-a29f-40ba-e575-c08b15c812db"
      },
      "source": [
        "%%timeit\r\n",
        "target_mean_v6(data,'y','x')"
      ],
      "execution_count": 36,
      "outputs": [
        {
          "output_type": "stream",
          "text": [
            "100 loops, best of 3: 8.29 ms per loop\n"
          ],
          "name": "stdout"
        }
      ]
    },
    {
      "cell_type": "markdown",
      "metadata": {
        "id": "xzQOXedhpQ1n"
      },
      "source": [
        "并没有多大的提升，继续分析"
      ]
    },
    {
      "cell_type": "code",
      "metadata": {
        "colab": {
          "base_uri": "https://localhost:8080/"
        },
        "id": "X7FtfFfLv6u4",
        "outputId": "eb2dd048-6de4-4647-be2b-c351a95dded5"
      },
      "source": [
        "profile = LineProfiler(target_mean_v6)\r\n",
        "profile.enable()\r\n",
        "target_mean_v6(data,'y','x')\r\n",
        "profile.disable()\r\n",
        "profile.print_stats()"
      ],
      "execution_count": 37,
      "outputs": [
        {
          "output_type": "stream",
          "text": [
            "Timer unit: 1e-06 s\n",
            "\n",
            "Total time: 0.037406 s\n",
            "File: <ipython-input-35-7925976ae960>\n",
            "Function: target_mean_v6 at line 1\n",
            "\n",
            "Line #      Hits         Time  Per Hit   % Time  Line Contents\n",
            "==============================================================\n",
            "     1                                           def target_mean_v6(data:pd.DataFrame, y_name:str, x_name:str) -> np.ndarray:\n",
            "     2         1         27.0     27.0      0.1      data_shape = data.shape[0]\n",
            "     3         1         39.0     39.0      0.1      result = np.zeros(data_shape)\n",
            "     4         1          1.0      1.0      0.0      value_dict = dict()\n",
            "     5         1          2.0      2.0      0.0      count_dict = dict()\n",
            "     6                                           \n",
            "     7         1         57.0     57.0      0.2      x_val_series = data[x_name].values\n",
            "     8         1         17.0     17.0      0.0      y_val_series = data[y_name].values\n",
            "     9      5001       2914.0      0.6      7.8      for i in range(data_shape):\n",
            "    10      5000       4067.0      0.8     10.9          data_loc_x = x_val_series[i]\n",
            "    11      5000       4088.0      0.8     10.9          data_loc_y = y_val_series[i]\n",
            "    12      5000       3309.0      0.7      8.8          if data_loc_x not in value_dict:\n",
            "    13        10         10.0      1.0      0.0              value_dict[data_loc_x] = data_loc_y\n",
            "    14        10          9.0      0.9      0.0              count_dict[data_loc_x] = 1\n",
            "    15                                                   else:\n",
            "    16      4990       5057.0      1.0     13.5              value_dict[data_loc_x] += data_loc_y\n",
            "    17      4990       3845.0      0.8     10.3              count_dict[data_loc_x] += 1\n",
            "    18      5001       2363.0      0.5      6.3      for i in range(data_shape):\n",
            "    19      5000       2961.0      0.6      7.9          data_loc_x = x_val_series[i]\n",
            "    20      5000       2939.0      0.6      7.9          data_loc_y = y_val_series[i]\n",
            "    21      5000       5700.0      1.1     15.2          result[i] = (value_dict[data_loc_x] - data_loc_y) / (count_dict[data_loc_x] - 1)\n",
            "    22                                           \n",
            "    23         1          1.0      1.0      0.0      return result\n",
            "\n"
          ],
          "name": "stdout"
        }
      ]
    },
    {
      "cell_type": "markdown",
      "metadata": {
        "id": "yZOqwNIQpZ_B"
      },
      "source": [
        "在python中优化的差不多了，然后用cython做优化"
      ]
    },
    {
      "cell_type": "code",
      "metadata": {
        "id": "3kXsOauNv_9y"
      },
      "source": [
        "%load_ext Cython"
      ],
      "execution_count": 40,
      "outputs": []
    },
    {
      "cell_type": "markdown",
      "metadata": {
        "id": "fVx3S3Empion"
      },
      "source": [
        "接下来的是测试python中tensor的类型"
      ]
    },
    {
      "cell_type": "code",
      "metadata": {
        "colab": {
          "base_uri": "https://localhost:8080/"
        },
        "id": "QiXmtB-b1MeW",
        "outputId": "a62160f9-3af9-45ed-ccbc-c8913af57bb0"
      },
      "source": [
        "a = np.zeros((5,1))\r\n",
        "a.dtype\r\n",
        "b = data['y'].values\r\n",
        "b.dtype "
      ],
      "execution_count": 38,
      "outputs": [
        {
          "output_type": "execute_result",
          "data": {
            "text/plain": [
              "dtype('int64')"
            ]
          },
          "metadata": {
            "tags": []
          },
          "execution_count": 38
        }
      ]
    },
    {
      "cell_type": "markdown",
      "metadata": {
        "id": "rIT6XVQApqNx"
      },
      "source": [
        "遵循的原则是：\r\n",
        "1.所有类型都有type\r\n",
        "2.注意numpy的排序（行/列优先）\r\n",
        "3.尽量使用C++自带的数据结构\r\n",
        "4.所有内存分配都应该在python中完成，临时变量用C++类进行构建\r\n",
        "5.通用方法:numpy—>C "
      ]
    },
    {
      "cell_type": "code",
      "metadata": {
        "colab": {
          "base_uri": "https://localhost:8080/",
          "height": 557
        },
        "id": "cPZKBbKTwnJb",
        "outputId": "c1a3e0df-5b46-40a5-cccd-87d90427f46a"
      },
      "source": [
        "%%cython -a\r\n",
        "import numpy as np\r\n",
        "cimport numpy as cnp\r\n",
        "import pandas as pd\r\n",
        "def target_mean_v7(data:pd.DataFrame, y_name:str, x_name:str) ->np.ndarray:\r\n",
        "  cdef:\r\n",
        "    int data_shape = data.shape[0]\r\n",
        "    cnp.ndarray[cnp.float64_t] result= np.zeros(data_shape)\r\n",
        "    dict value_dict = {}\r\n",
        "    dict count_dict = {}\r\n",
        "    cnp.ndarray[cnp.int64_t] x_val_series = data[x_name].values\r\n",
        "    cnp.ndarray[cnp.int64_t] y_val_series = data[y_name].values\r\n",
        "  for i in range(data_shape):\r\n",
        "    data_loc_x = x_val_series[i]\r\n",
        "    data_loc_y = y_val_series[i]\r\n",
        "    if data_loc_x not in value_dict:\r\n",
        "      value_dict[data_loc_x] = data_loc_y\r\n",
        "      count_dict[data_loc_x] = 1\r\n",
        "    else:\r\n",
        "      value_dict[data_loc_x] += data_loc_y\r\n",
        "      count_dict[data_loc_x] += 1\r\n",
        "  for i in range(data_shape):\r\n",
        "    data_loc_x = x_val_series[i]\r\n",
        "    data_loc_y = y_val_series[i]\r\n",
        "    result[i] = (value_dict[data_loc_x]-data_loc_y) / (count_dict[data_loc_x]-1)\r\n",
        "  return result\r\n",
        "\r\n",
        "    "
      ],
      "execution_count": 41,
      "outputs": [
        {
          "output_type": "execute_result",
          "data": {
            "text/html": [
              "<!DOCTYPE html>\n",
              "<!-- Generated by Cython 0.29.21 -->\n",
              "<html>\n",
              "<head>\n",
              "    <meta http-equiv=\"Content-Type\" content=\"text/html; charset=utf-8\" />\n",
              "    <title>Cython: _cython_magic_494df0341a0d38d64b5daa665b42e3ee.pyx</title>\n",
              "    <style type=\"text/css\">\n",
              "    \n",
              "body.cython { font-family: courier; font-size: 12; }\n",
              "\n",
              ".cython.tag  {  }\n",
              ".cython.line { margin: 0em }\n",
              ".cython.code { font-size: 9; color: #444444; display: none; margin: 0px 0px 0px 8px; border-left: 8px none; }\n",
              "\n",
              ".cython.line .run { background-color: #B0FFB0; }\n",
              ".cython.line .mis { background-color: #FFB0B0; }\n",
              ".cython.code.run  { border-left: 8px solid #B0FFB0; }\n",
              ".cython.code.mis  { border-left: 8px solid #FFB0B0; }\n",
              "\n",
              ".cython.code .py_c_api  { color: red; }\n",
              ".cython.code .py_macro_api  { color: #FF7000; }\n",
              ".cython.code .pyx_c_api  { color: #FF3000; }\n",
              ".cython.code .pyx_macro_api  { color: #FF7000; }\n",
              ".cython.code .refnanny  { color: #FFA000; }\n",
              ".cython.code .trace  { color: #FFA000; }\n",
              ".cython.code .error_goto  { color: #FFA000; }\n",
              "\n",
              ".cython.code .coerce  { color: #008000; border: 1px dotted #008000 }\n",
              ".cython.code .py_attr { color: #FF0000; font-weight: bold; }\n",
              ".cython.code .c_attr  { color: #0000FF; }\n",
              ".cython.code .py_call { color: #FF0000; font-weight: bold; }\n",
              ".cython.code .c_call  { color: #0000FF; }\n",
              "\n",
              ".cython.score-0 {background-color: #FFFFff;}\n",
              ".cython.score-1 {background-color: #FFFFe7;}\n",
              ".cython.score-2 {background-color: #FFFFd4;}\n",
              ".cython.score-3 {background-color: #FFFFc4;}\n",
              ".cython.score-4 {background-color: #FFFFb6;}\n",
              ".cython.score-5 {background-color: #FFFFaa;}\n",
              ".cython.score-6 {background-color: #FFFF9f;}\n",
              ".cython.score-7 {background-color: #FFFF96;}\n",
              ".cython.score-8 {background-color: #FFFF8d;}\n",
              ".cython.score-9 {background-color: #FFFF86;}\n",
              ".cython.score-10 {background-color: #FFFF7f;}\n",
              ".cython.score-11 {background-color: #FFFF79;}\n",
              ".cython.score-12 {background-color: #FFFF73;}\n",
              ".cython.score-13 {background-color: #FFFF6e;}\n",
              ".cython.score-14 {background-color: #FFFF6a;}\n",
              ".cython.score-15 {background-color: #FFFF66;}\n",
              ".cython.score-16 {background-color: #FFFF62;}\n",
              ".cython.score-17 {background-color: #FFFF5e;}\n",
              ".cython.score-18 {background-color: #FFFF5b;}\n",
              ".cython.score-19 {background-color: #FFFF57;}\n",
              ".cython.score-20 {background-color: #FFFF55;}\n",
              ".cython.score-21 {background-color: #FFFF52;}\n",
              ".cython.score-22 {background-color: #FFFF4f;}\n",
              ".cython.score-23 {background-color: #FFFF4d;}\n",
              ".cython.score-24 {background-color: #FFFF4b;}\n",
              ".cython.score-25 {background-color: #FFFF48;}\n",
              ".cython.score-26 {background-color: #FFFF46;}\n",
              ".cython.score-27 {background-color: #FFFF44;}\n",
              ".cython.score-28 {background-color: #FFFF43;}\n",
              ".cython.score-29 {background-color: #FFFF41;}\n",
              ".cython.score-30 {background-color: #FFFF3f;}\n",
              ".cython.score-31 {background-color: #FFFF3e;}\n",
              ".cython.score-32 {background-color: #FFFF3c;}\n",
              ".cython.score-33 {background-color: #FFFF3b;}\n",
              ".cython.score-34 {background-color: #FFFF39;}\n",
              ".cython.score-35 {background-color: #FFFF38;}\n",
              ".cython.score-36 {background-color: #FFFF37;}\n",
              ".cython.score-37 {background-color: #FFFF36;}\n",
              ".cython.score-38 {background-color: #FFFF35;}\n",
              ".cython.score-39 {background-color: #FFFF34;}\n",
              ".cython.score-40 {background-color: #FFFF33;}\n",
              ".cython.score-41 {background-color: #FFFF32;}\n",
              ".cython.score-42 {background-color: #FFFF31;}\n",
              ".cython.score-43 {background-color: #FFFF30;}\n",
              ".cython.score-44 {background-color: #FFFF2f;}\n",
              ".cython.score-45 {background-color: #FFFF2e;}\n",
              ".cython.score-46 {background-color: #FFFF2d;}\n",
              ".cython.score-47 {background-color: #FFFF2c;}\n",
              ".cython.score-48 {background-color: #FFFF2b;}\n",
              ".cython.score-49 {background-color: #FFFF2b;}\n",
              ".cython.score-50 {background-color: #FFFF2a;}\n",
              ".cython.score-51 {background-color: #FFFF29;}\n",
              ".cython.score-52 {background-color: #FFFF29;}\n",
              ".cython.score-53 {background-color: #FFFF28;}\n",
              ".cython.score-54 {background-color: #FFFF27;}\n",
              ".cython.score-55 {background-color: #FFFF27;}\n",
              ".cython.score-56 {background-color: #FFFF26;}\n",
              ".cython.score-57 {background-color: #FFFF26;}\n",
              ".cython.score-58 {background-color: #FFFF25;}\n",
              ".cython.score-59 {background-color: #FFFF24;}\n",
              ".cython.score-60 {background-color: #FFFF24;}\n",
              ".cython.score-61 {background-color: #FFFF23;}\n",
              ".cython.score-62 {background-color: #FFFF23;}\n",
              ".cython.score-63 {background-color: #FFFF22;}\n",
              ".cython.score-64 {background-color: #FFFF22;}\n",
              ".cython.score-65 {background-color: #FFFF22;}\n",
              ".cython.score-66 {background-color: #FFFF21;}\n",
              ".cython.score-67 {background-color: #FFFF21;}\n",
              ".cython.score-68 {background-color: #FFFF20;}\n",
              ".cython.score-69 {background-color: #FFFF20;}\n",
              ".cython.score-70 {background-color: #FFFF1f;}\n",
              ".cython.score-71 {background-color: #FFFF1f;}\n",
              ".cython.score-72 {background-color: #FFFF1f;}\n",
              ".cython.score-73 {background-color: #FFFF1e;}\n",
              ".cython.score-74 {background-color: #FFFF1e;}\n",
              ".cython.score-75 {background-color: #FFFF1e;}\n",
              ".cython.score-76 {background-color: #FFFF1d;}\n",
              ".cython.score-77 {background-color: #FFFF1d;}\n",
              ".cython.score-78 {background-color: #FFFF1c;}\n",
              ".cython.score-79 {background-color: #FFFF1c;}\n",
              ".cython.score-80 {background-color: #FFFF1c;}\n",
              ".cython.score-81 {background-color: #FFFF1c;}\n",
              ".cython.score-82 {background-color: #FFFF1b;}\n",
              ".cython.score-83 {background-color: #FFFF1b;}\n",
              ".cython.score-84 {background-color: #FFFF1b;}\n",
              ".cython.score-85 {background-color: #FFFF1a;}\n",
              ".cython.score-86 {background-color: #FFFF1a;}\n",
              ".cython.score-87 {background-color: #FFFF1a;}\n",
              ".cython.score-88 {background-color: #FFFF1a;}\n",
              ".cython.score-89 {background-color: #FFFF19;}\n",
              ".cython.score-90 {background-color: #FFFF19;}\n",
              ".cython.score-91 {background-color: #FFFF19;}\n",
              ".cython.score-92 {background-color: #FFFF19;}\n",
              ".cython.score-93 {background-color: #FFFF18;}\n",
              ".cython.score-94 {background-color: #FFFF18;}\n",
              ".cython.score-95 {background-color: #FFFF18;}\n",
              ".cython.score-96 {background-color: #FFFF18;}\n",
              ".cython.score-97 {background-color: #FFFF17;}\n",
              ".cython.score-98 {background-color: #FFFF17;}\n",
              ".cython.score-99 {background-color: #FFFF17;}\n",
              ".cython.score-100 {background-color: #FFFF17;}\n",
              ".cython.score-101 {background-color: #FFFF16;}\n",
              ".cython.score-102 {background-color: #FFFF16;}\n",
              ".cython.score-103 {background-color: #FFFF16;}\n",
              ".cython.score-104 {background-color: #FFFF16;}\n",
              ".cython.score-105 {background-color: #FFFF16;}\n",
              ".cython.score-106 {background-color: #FFFF15;}\n",
              ".cython.score-107 {background-color: #FFFF15;}\n",
              ".cython.score-108 {background-color: #FFFF15;}\n",
              ".cython.score-109 {background-color: #FFFF15;}\n",
              ".cython.score-110 {background-color: #FFFF15;}\n",
              ".cython.score-111 {background-color: #FFFF15;}\n",
              ".cython.score-112 {background-color: #FFFF14;}\n",
              ".cython.score-113 {background-color: #FFFF14;}\n",
              ".cython.score-114 {background-color: #FFFF14;}\n",
              ".cython.score-115 {background-color: #FFFF14;}\n",
              ".cython.score-116 {background-color: #FFFF14;}\n",
              ".cython.score-117 {background-color: #FFFF14;}\n",
              ".cython.score-118 {background-color: #FFFF13;}\n",
              ".cython.score-119 {background-color: #FFFF13;}\n",
              ".cython.score-120 {background-color: #FFFF13;}\n",
              ".cython.score-121 {background-color: #FFFF13;}\n",
              ".cython.score-122 {background-color: #FFFF13;}\n",
              ".cython.score-123 {background-color: #FFFF13;}\n",
              ".cython.score-124 {background-color: #FFFF13;}\n",
              ".cython.score-125 {background-color: #FFFF12;}\n",
              ".cython.score-126 {background-color: #FFFF12;}\n",
              ".cython.score-127 {background-color: #FFFF12;}\n",
              ".cython.score-128 {background-color: #FFFF12;}\n",
              ".cython.score-129 {background-color: #FFFF12;}\n",
              ".cython.score-130 {background-color: #FFFF12;}\n",
              ".cython.score-131 {background-color: #FFFF12;}\n",
              ".cython.score-132 {background-color: #FFFF11;}\n",
              ".cython.score-133 {background-color: #FFFF11;}\n",
              ".cython.score-134 {background-color: #FFFF11;}\n",
              ".cython.score-135 {background-color: #FFFF11;}\n",
              ".cython.score-136 {background-color: #FFFF11;}\n",
              ".cython.score-137 {background-color: #FFFF11;}\n",
              ".cython.score-138 {background-color: #FFFF11;}\n",
              ".cython.score-139 {background-color: #FFFF11;}\n",
              ".cython.score-140 {background-color: #FFFF11;}\n",
              ".cython.score-141 {background-color: #FFFF10;}\n",
              ".cython.score-142 {background-color: #FFFF10;}\n",
              ".cython.score-143 {background-color: #FFFF10;}\n",
              ".cython.score-144 {background-color: #FFFF10;}\n",
              ".cython.score-145 {background-color: #FFFF10;}\n",
              ".cython.score-146 {background-color: #FFFF10;}\n",
              ".cython.score-147 {background-color: #FFFF10;}\n",
              ".cython.score-148 {background-color: #FFFF10;}\n",
              ".cython.score-149 {background-color: #FFFF10;}\n",
              ".cython.score-150 {background-color: #FFFF0f;}\n",
              ".cython.score-151 {background-color: #FFFF0f;}\n",
              ".cython.score-152 {background-color: #FFFF0f;}\n",
              ".cython.score-153 {background-color: #FFFF0f;}\n",
              ".cython.score-154 {background-color: #FFFF0f;}\n",
              ".cython.score-155 {background-color: #FFFF0f;}\n",
              ".cython.score-156 {background-color: #FFFF0f;}\n",
              ".cython.score-157 {background-color: #FFFF0f;}\n",
              ".cython.score-158 {background-color: #FFFF0f;}\n",
              ".cython.score-159 {background-color: #FFFF0f;}\n",
              ".cython.score-160 {background-color: #FFFF0f;}\n",
              ".cython.score-161 {background-color: #FFFF0e;}\n",
              ".cython.score-162 {background-color: #FFFF0e;}\n",
              ".cython.score-163 {background-color: #FFFF0e;}\n",
              ".cython.score-164 {background-color: #FFFF0e;}\n",
              ".cython.score-165 {background-color: #FFFF0e;}\n",
              ".cython.score-166 {background-color: #FFFF0e;}\n",
              ".cython.score-167 {background-color: #FFFF0e;}\n",
              ".cython.score-168 {background-color: #FFFF0e;}\n",
              ".cython.score-169 {background-color: #FFFF0e;}\n",
              ".cython.score-170 {background-color: #FFFF0e;}\n",
              ".cython.score-171 {background-color: #FFFF0e;}\n",
              ".cython.score-172 {background-color: #FFFF0e;}\n",
              ".cython.score-173 {background-color: #FFFF0d;}\n",
              ".cython.score-174 {background-color: #FFFF0d;}\n",
              ".cython.score-175 {background-color: #FFFF0d;}\n",
              ".cython.score-176 {background-color: #FFFF0d;}\n",
              ".cython.score-177 {background-color: #FFFF0d;}\n",
              ".cython.score-178 {background-color: #FFFF0d;}\n",
              ".cython.score-179 {background-color: #FFFF0d;}\n",
              ".cython.score-180 {background-color: #FFFF0d;}\n",
              ".cython.score-181 {background-color: #FFFF0d;}\n",
              ".cython.score-182 {background-color: #FFFF0d;}\n",
              ".cython.score-183 {background-color: #FFFF0d;}\n",
              ".cython.score-184 {background-color: #FFFF0d;}\n",
              ".cython.score-185 {background-color: #FFFF0d;}\n",
              ".cython.score-186 {background-color: #FFFF0d;}\n",
              ".cython.score-187 {background-color: #FFFF0c;}\n",
              ".cython.score-188 {background-color: #FFFF0c;}\n",
              ".cython.score-189 {background-color: #FFFF0c;}\n",
              ".cython.score-190 {background-color: #FFFF0c;}\n",
              ".cython.score-191 {background-color: #FFFF0c;}\n",
              ".cython.score-192 {background-color: #FFFF0c;}\n",
              ".cython.score-193 {background-color: #FFFF0c;}\n",
              ".cython.score-194 {background-color: #FFFF0c;}\n",
              ".cython.score-195 {background-color: #FFFF0c;}\n",
              ".cython.score-196 {background-color: #FFFF0c;}\n",
              ".cython.score-197 {background-color: #FFFF0c;}\n",
              ".cython.score-198 {background-color: #FFFF0c;}\n",
              ".cython.score-199 {background-color: #FFFF0c;}\n",
              ".cython.score-200 {background-color: #FFFF0c;}\n",
              ".cython.score-201 {background-color: #FFFF0c;}\n",
              ".cython.score-202 {background-color: #FFFF0c;}\n",
              ".cython.score-203 {background-color: #FFFF0b;}\n",
              ".cython.score-204 {background-color: #FFFF0b;}\n",
              ".cython.score-205 {background-color: #FFFF0b;}\n",
              ".cython.score-206 {background-color: #FFFF0b;}\n",
              ".cython.score-207 {background-color: #FFFF0b;}\n",
              ".cython.score-208 {background-color: #FFFF0b;}\n",
              ".cython.score-209 {background-color: #FFFF0b;}\n",
              ".cython.score-210 {background-color: #FFFF0b;}\n",
              ".cython.score-211 {background-color: #FFFF0b;}\n",
              ".cython.score-212 {background-color: #FFFF0b;}\n",
              ".cython.score-213 {background-color: #FFFF0b;}\n",
              ".cython.score-214 {background-color: #FFFF0b;}\n",
              ".cython.score-215 {background-color: #FFFF0b;}\n",
              ".cython.score-216 {background-color: #FFFF0b;}\n",
              ".cython.score-217 {background-color: #FFFF0b;}\n",
              ".cython.score-218 {background-color: #FFFF0b;}\n",
              ".cython.score-219 {background-color: #FFFF0b;}\n",
              ".cython.score-220 {background-color: #FFFF0b;}\n",
              ".cython.score-221 {background-color: #FFFF0b;}\n",
              ".cython.score-222 {background-color: #FFFF0a;}\n",
              ".cython.score-223 {background-color: #FFFF0a;}\n",
              ".cython.score-224 {background-color: #FFFF0a;}\n",
              ".cython.score-225 {background-color: #FFFF0a;}\n",
              ".cython.score-226 {background-color: #FFFF0a;}\n",
              ".cython.score-227 {background-color: #FFFF0a;}\n",
              ".cython.score-228 {background-color: #FFFF0a;}\n",
              ".cython.score-229 {background-color: #FFFF0a;}\n",
              ".cython.score-230 {background-color: #FFFF0a;}\n",
              ".cython.score-231 {background-color: #FFFF0a;}\n",
              ".cython.score-232 {background-color: #FFFF0a;}\n",
              ".cython.score-233 {background-color: #FFFF0a;}\n",
              ".cython.score-234 {background-color: #FFFF0a;}\n",
              ".cython.score-235 {background-color: #FFFF0a;}\n",
              ".cython.score-236 {background-color: #FFFF0a;}\n",
              ".cython.score-237 {background-color: #FFFF0a;}\n",
              ".cython.score-238 {background-color: #FFFF0a;}\n",
              ".cython.score-239 {background-color: #FFFF0a;}\n",
              ".cython.score-240 {background-color: #FFFF0a;}\n",
              ".cython.score-241 {background-color: #FFFF0a;}\n",
              ".cython.score-242 {background-color: #FFFF0a;}\n",
              ".cython.score-243 {background-color: #FFFF0a;}\n",
              ".cython.score-244 {background-color: #FFFF0a;}\n",
              ".cython.score-245 {background-color: #FFFF0a;}\n",
              ".cython.score-246 {background-color: #FFFF09;}\n",
              ".cython.score-247 {background-color: #FFFF09;}\n",
              ".cython.score-248 {background-color: #FFFF09;}\n",
              ".cython.score-249 {background-color: #FFFF09;}\n",
              ".cython.score-250 {background-color: #FFFF09;}\n",
              ".cython.score-251 {background-color: #FFFF09;}\n",
              ".cython.score-252 {background-color: #FFFF09;}\n",
              ".cython.score-253 {background-color: #FFFF09;}\n",
              ".cython.score-254 {background-color: #FFFF09;}\n",
              ".cython .hll { background-color: #ffffcc }\n",
              ".cython  { background: #f8f8f8; }\n",
              ".cython .c { color: #408080; font-style: italic } /* Comment */\n",
              ".cython .err { border: 1px solid #FF0000 } /* Error */\n",
              ".cython .k { color: #008000; font-weight: bold } /* Keyword */\n",
              ".cython .o { color: #666666 } /* Operator */\n",
              ".cython .ch { color: #408080; font-style: italic } /* Comment.Hashbang */\n",
              ".cython .cm { color: #408080; font-style: italic } /* Comment.Multiline */\n",
              ".cython .cp { color: #BC7A00 } /* Comment.Preproc */\n",
              ".cython .cpf { color: #408080; font-style: italic } /* Comment.PreprocFile */\n",
              ".cython .c1 { color: #408080; font-style: italic } /* Comment.Single */\n",
              ".cython .cs { color: #408080; font-style: italic } /* Comment.Special */\n",
              ".cython .gd { color: #A00000 } /* Generic.Deleted */\n",
              ".cython .ge { font-style: italic } /* Generic.Emph */\n",
              ".cython .gr { color: #FF0000 } /* Generic.Error */\n",
              ".cython .gh { color: #000080; font-weight: bold } /* Generic.Heading */\n",
              ".cython .gi { color: #00A000 } /* Generic.Inserted */\n",
              ".cython .go { color: #888888 } /* Generic.Output */\n",
              ".cython .gp { color: #000080; font-weight: bold } /* Generic.Prompt */\n",
              ".cython .gs { font-weight: bold } /* Generic.Strong */\n",
              ".cython .gu { color: #800080; font-weight: bold } /* Generic.Subheading */\n",
              ".cython .gt { color: #0044DD } /* Generic.Traceback */\n",
              ".cython .kc { color: #008000; font-weight: bold } /* Keyword.Constant */\n",
              ".cython .kd { color: #008000; font-weight: bold } /* Keyword.Declaration */\n",
              ".cython .kn { color: #008000; font-weight: bold } /* Keyword.Namespace */\n",
              ".cython .kp { color: #008000 } /* Keyword.Pseudo */\n",
              ".cython .kr { color: #008000; font-weight: bold } /* Keyword.Reserved */\n",
              ".cython .kt { color: #B00040 } /* Keyword.Type */\n",
              ".cython .m { color: #666666 } /* Literal.Number */\n",
              ".cython .s { color: #BA2121 } /* Literal.String */\n",
              ".cython .na { color: #7D9029 } /* Name.Attribute */\n",
              ".cython .nb { color: #008000 } /* Name.Builtin */\n",
              ".cython .nc { color: #0000FF; font-weight: bold } /* Name.Class */\n",
              ".cython .no { color: #880000 } /* Name.Constant */\n",
              ".cython .nd { color: #AA22FF } /* Name.Decorator */\n",
              ".cython .ni { color: #999999; font-weight: bold } /* Name.Entity */\n",
              ".cython .ne { color: #D2413A; font-weight: bold } /* Name.Exception */\n",
              ".cython .nf { color: #0000FF } /* Name.Function */\n",
              ".cython .nl { color: #A0A000 } /* Name.Label */\n",
              ".cython .nn { color: #0000FF; font-weight: bold } /* Name.Namespace */\n",
              ".cython .nt { color: #008000; font-weight: bold } /* Name.Tag */\n",
              ".cython .nv { color: #19177C } /* Name.Variable */\n",
              ".cython .ow { color: #AA22FF; font-weight: bold } /* Operator.Word */\n",
              ".cython .w { color: #bbbbbb } /* Text.Whitespace */\n",
              ".cython .mb { color: #666666 } /* Literal.Number.Bin */\n",
              ".cython .mf { color: #666666 } /* Literal.Number.Float */\n",
              ".cython .mh { color: #666666 } /* Literal.Number.Hex */\n",
              ".cython .mi { color: #666666 } /* Literal.Number.Integer */\n",
              ".cython .mo { color: #666666 } /* Literal.Number.Oct */\n",
              ".cython .sa { color: #BA2121 } /* Literal.String.Affix */\n",
              ".cython .sb { color: #BA2121 } /* Literal.String.Backtick */\n",
              ".cython .sc { color: #BA2121 } /* Literal.String.Char */\n",
              ".cython .dl { color: #BA2121 } /* Literal.String.Delimiter */\n",
              ".cython .sd { color: #BA2121; font-style: italic } /* Literal.String.Doc */\n",
              ".cython .s2 { color: #BA2121 } /* Literal.String.Double */\n",
              ".cython .se { color: #BB6622; font-weight: bold } /* Literal.String.Escape */\n",
              ".cython .sh { color: #BA2121 } /* Literal.String.Heredoc */\n",
              ".cython .si { color: #BB6688; font-weight: bold } /* Literal.String.Interpol */\n",
              ".cython .sx { color: #008000 } /* Literal.String.Other */\n",
              ".cython .sr { color: #BB6688 } /* Literal.String.Regex */\n",
              ".cython .s1 { color: #BA2121 } /* Literal.String.Single */\n",
              ".cython .ss { color: #19177C } /* Literal.String.Symbol */\n",
              ".cython .bp { color: #008000 } /* Name.Builtin.Pseudo */\n",
              ".cython .fm { color: #0000FF } /* Name.Function.Magic */\n",
              ".cython .vc { color: #19177C } /* Name.Variable.Class */\n",
              ".cython .vg { color: #19177C } /* Name.Variable.Global */\n",
              ".cython .vi { color: #19177C } /* Name.Variable.Instance */\n",
              ".cython .vm { color: #19177C } /* Name.Variable.Magic */\n",
              ".cython .il { color: #666666 } /* Literal.Number.Integer.Long */\n",
              "    </style>\n",
              "</head>\n",
              "<body class=\"cython\">\n",
              "<p><span style=\"border-bottom: solid 1px grey;\">Generated by Cython 0.29.21</span></p>\n",
              "<p>\n",
              "    <span style=\"background-color: #FFFF00\">Yellow lines</span> hint at Python interaction.<br />\n",
              "    Click on a line that starts with a \"<code>+</code>\" to see the C code that Cython generated for it.\n",
              "</p>\n",
              "<div class=\"cython\"><pre class=\"cython line score-16\" onclick=\"(function(s){s.display=s.display==='block'?'none':'block'})(this.nextElementSibling.style)\">+<span class=\"\">01</span>: <span class=\"k\">import</span> <span class=\"nn\">numpy</span> <span class=\"k\">as</span> <span class=\"nn\">np</span></pre>\n",
              "<pre class='cython code score-16 '>  __pyx_t_1 = <span class='pyx_c_api'>__Pyx_Import</span>(__pyx_n_s_numpy, 0, 0);<span class='error_goto'> if (unlikely(!__pyx_t_1)) __PYX_ERR(0, 1, __pyx_L1_error)</span>\n",
              "  <span class='refnanny'>__Pyx_GOTREF</span>(__pyx_t_1);\n",
              "  if (<span class='py_c_api'>PyDict_SetItem</span>(__pyx_d, __pyx_n_s_np, __pyx_t_1) &lt; 0) <span class='error_goto'>__PYX_ERR(0, 1, __pyx_L1_error)</span>\n",
              "  <span class='pyx_macro_api'>__Pyx_DECREF</span>(__pyx_t_1); __pyx_t_1 = 0;\n",
              "/* … */\n",
              "  __pyx_t_1 = <span class='pyx_c_api'>__Pyx_PyDict_NewPresized</span>(0);<span class='error_goto'> if (unlikely(!__pyx_t_1)) __PYX_ERR(0, 1, __pyx_L1_error)</span>\n",
              "  <span class='refnanny'>__Pyx_GOTREF</span>(__pyx_t_1);\n",
              "  if (<span class='py_c_api'>PyDict_SetItem</span>(__pyx_d, __pyx_n_s_test, __pyx_t_1) &lt; 0) <span class='error_goto'>__PYX_ERR(0, 1, __pyx_L1_error)</span>\n",
              "  <span class='pyx_macro_api'>__Pyx_DECREF</span>(__pyx_t_1); __pyx_t_1 = 0;\n",
              "</pre><pre class=\"cython line score-0\">&#xA0;<span class=\"\">02</span>: <span class=\"k\">cimport</span> <span class=\"nn\">numpy</span> <span class=\"k\">as</span> <span class=\"nn\">cnp</span></pre>\n",
              "<pre class=\"cython line score-8\" onclick=\"(function(s){s.display=s.display==='block'?'none':'block'})(this.nextElementSibling.style)\">+<span class=\"\">03</span>: <span class=\"k\">import</span> <span class=\"nn\">pandas</span> <span class=\"k\">as</span> <span class=\"nn\">pd</span></pre>\n",
              "<pre class='cython code score-8 '>  __pyx_t_1 = <span class='pyx_c_api'>__Pyx_Import</span>(__pyx_n_s_pandas, 0, 0);<span class='error_goto'> if (unlikely(!__pyx_t_1)) __PYX_ERR(0, 3, __pyx_L1_error)</span>\n",
              "  <span class='refnanny'>__Pyx_GOTREF</span>(__pyx_t_1);\n",
              "  if (<span class='py_c_api'>PyDict_SetItem</span>(__pyx_d, __pyx_n_s_pd, __pyx_t_1) &lt; 0) <span class='error_goto'>__PYX_ERR(0, 3, __pyx_L1_error)</span>\n",
              "  <span class='pyx_macro_api'>__Pyx_DECREF</span>(__pyx_t_1); __pyx_t_1 = 0;\n",
              "</pre><pre class=\"cython line score-74\" onclick=\"(function(s){s.display=s.display==='block'?'none':'block'})(this.nextElementSibling.style)\">+<span class=\"\">04</span>: <span class=\"k\">def</span> <span class=\"nf\">target_mean_v7</span><span class=\"p\">(</span><span class=\"n\">data</span><span class=\"p\">:</span><span class=\"n\">pd</span><span class=\"o\">.</span><span class=\"n\">DataFrame</span><span class=\"p\">,</span> <span class=\"n\">y_name</span><span class=\"p\">:</span><span class=\"nb\">str</span><span class=\"p\">,</span> <span class=\"n\">x_name</span><span class=\"p\">:</span><span class=\"nb\">str</span><span class=\"p\">)</span> <span class=\"o\">-&gt;</span><span class=\"n\">np</span><span class=\"o\">.</span><span class=\"n\">ndarray</span><span class=\"p\">:</span></pre>\n",
              "<pre class='cython code score-74 '>/* Python wrapper */\n",
              "static PyObject *__pyx_pw_46_cython_magic_494df0341a0d38d64b5daa665b42e3ee_1target_mean_v7(PyObject *__pyx_self, PyObject *__pyx_args, PyObject *__pyx_kwds); /*proto*/\n",
              "static PyMethodDef __pyx_mdef_46_cython_magic_494df0341a0d38d64b5daa665b42e3ee_1target_mean_v7 = {\"target_mean_v7\", (PyCFunction)(void*)(PyCFunctionWithKeywords)__pyx_pw_46_cython_magic_494df0341a0d38d64b5daa665b42e3ee_1target_mean_v7, METH_VARARGS|METH_KEYWORDS, 0};\n",
              "static PyObject *__pyx_pw_46_cython_magic_494df0341a0d38d64b5daa665b42e3ee_1target_mean_v7(PyObject *__pyx_self, PyObject *__pyx_args, PyObject *__pyx_kwds) {\n",
              "  PyObject *__pyx_v_data = 0;\n",
              "  PyObject *__pyx_v_y_name = 0;\n",
              "  PyObject *__pyx_v_x_name = 0;\n",
              "  PyObject *__pyx_r = 0;\n",
              "  <span class='refnanny'>__Pyx_RefNannyDeclarations</span>\n",
              "  <span class='refnanny'>__Pyx_RefNannySetupContext</span>(\"target_mean_v7 (wrapper)\", 0);\n",
              "  {\n",
              "    static PyObject **__pyx_pyargnames[] = {&amp;__pyx_n_s_data,&amp;__pyx_n_s_y_name,&amp;__pyx_n_s_x_name,0};\n",
              "    PyObject* values[3] = {0,0,0};\n",
              "    if (unlikely(__pyx_kwds)) {\n",
              "      Py_ssize_t kw_args;\n",
              "      const Py_ssize_t pos_args = <span class='py_macro_api'>PyTuple_GET_SIZE</span>(__pyx_args);\n",
              "      switch (pos_args) {\n",
              "        case  3: values[2] = <span class='py_macro_api'>PyTuple_GET_ITEM</span>(__pyx_args, 2);\n",
              "        CYTHON_FALLTHROUGH;\n",
              "        case  2: values[1] = <span class='py_macro_api'>PyTuple_GET_ITEM</span>(__pyx_args, 1);\n",
              "        CYTHON_FALLTHROUGH;\n",
              "        case  1: values[0] = <span class='py_macro_api'>PyTuple_GET_ITEM</span>(__pyx_args, 0);\n",
              "        CYTHON_FALLTHROUGH;\n",
              "        case  0: break;\n",
              "        default: goto __pyx_L5_argtuple_error;\n",
              "      }\n",
              "      kw_args = <span class='py_c_api'>PyDict_Size</span>(__pyx_kwds);\n",
              "      switch (pos_args) {\n",
              "        case  0:\n",
              "        if (likely((values[0] = <span class='pyx_c_api'>__Pyx_PyDict_GetItemStr</span>(__pyx_kwds, __pyx_n_s_data)) != 0)) kw_args--;\n",
              "        else goto __pyx_L5_argtuple_error;\n",
              "        CYTHON_FALLTHROUGH;\n",
              "        case  1:\n",
              "        if (likely((values[1] = <span class='pyx_c_api'>__Pyx_PyDict_GetItemStr</span>(__pyx_kwds, __pyx_n_s_y_name)) != 0)) kw_args--;\n",
              "        else {\n",
              "          <span class='pyx_c_api'>__Pyx_RaiseArgtupleInvalid</span>(\"target_mean_v7\", 1, 3, 3, 1); <span class='error_goto'>__PYX_ERR(0, 4, __pyx_L3_error)</span>\n",
              "        }\n",
              "        CYTHON_FALLTHROUGH;\n",
              "        case  2:\n",
              "        if (likely((values[2] = <span class='pyx_c_api'>__Pyx_PyDict_GetItemStr</span>(__pyx_kwds, __pyx_n_s_x_name)) != 0)) kw_args--;\n",
              "        else {\n",
              "          <span class='pyx_c_api'>__Pyx_RaiseArgtupleInvalid</span>(\"target_mean_v7\", 1, 3, 3, 2); <span class='error_goto'>__PYX_ERR(0, 4, __pyx_L3_error)</span>\n",
              "        }\n",
              "      }\n",
              "      if (unlikely(kw_args &gt; 0)) {\n",
              "        if (unlikely(<span class='pyx_c_api'>__Pyx_ParseOptionalKeywords</span>(__pyx_kwds, __pyx_pyargnames, 0, values, pos_args, \"target_mean_v7\") &lt; 0)) <span class='error_goto'>__PYX_ERR(0, 4, __pyx_L3_error)</span>\n",
              "      }\n",
              "    } else if (<span class='py_macro_api'>PyTuple_GET_SIZE</span>(__pyx_args) != 3) {\n",
              "      goto __pyx_L5_argtuple_error;\n",
              "    } else {\n",
              "      values[0] = <span class='py_macro_api'>PyTuple_GET_ITEM</span>(__pyx_args, 0);\n",
              "      values[1] = <span class='py_macro_api'>PyTuple_GET_ITEM</span>(__pyx_args, 1);\n",
              "      values[2] = <span class='py_macro_api'>PyTuple_GET_ITEM</span>(__pyx_args, 2);\n",
              "    }\n",
              "    __pyx_v_data = values[0];\n",
              "    __pyx_v_y_name = ((PyObject*)values[1]);\n",
              "    __pyx_v_x_name = ((PyObject*)values[2]);\n",
              "  }\n",
              "  goto __pyx_L4_argument_unpacking_done;\n",
              "  __pyx_L5_argtuple_error:;\n",
              "  <span class='pyx_c_api'>__Pyx_RaiseArgtupleInvalid</span>(\"target_mean_v7\", 1, 3, 3, <span class='py_macro_api'>PyTuple_GET_SIZE</span>(__pyx_args)); <span class='error_goto'>__PYX_ERR(0, 4, __pyx_L3_error)</span>\n",
              "  __pyx_L3_error:;\n",
              "  <span class='pyx_c_api'>__Pyx_AddTraceback</span>(\"_cython_magic_494df0341a0d38d64b5daa665b42e3ee.target_mean_v7\", __pyx_clineno, __pyx_lineno, __pyx_filename);\n",
              "  <span class='refnanny'>__Pyx_RefNannyFinishContext</span>();\n",
              "  return NULL;\n",
              "  __pyx_L4_argument_unpacking_done:;\n",
              "  if (unlikely(!<span class='pyx_c_api'>__Pyx_ArgTypeTest</span>(((PyObject *)__pyx_v_y_name), (&amp;PyUnicode_Type), 1, \"y_name\", 1))) <span class='error_goto'>__PYX_ERR(0, 4, __pyx_L1_error)</span>\n",
              "  if (unlikely(!<span class='pyx_c_api'>__Pyx_ArgTypeTest</span>(((PyObject *)__pyx_v_x_name), (&amp;PyUnicode_Type), 1, \"x_name\", 1))) <span class='error_goto'>__PYX_ERR(0, 4, __pyx_L1_error)</span>\n",
              "  __pyx_r = __pyx_pf_46_cython_magic_494df0341a0d38d64b5daa665b42e3ee_target_mean_v7(__pyx_self, __pyx_v_data, __pyx_v_y_name, __pyx_v_x_name);\n",
              "  int __pyx_lineno = 0;\n",
              "  const char *__pyx_filename = NULL;\n",
              "  int __pyx_clineno = 0;\n",
              "\n",
              "  /* function exit code */\n",
              "  goto __pyx_L0;\n",
              "  __pyx_L1_error:;\n",
              "  __pyx_r = NULL;\n",
              "  __pyx_L0:;\n",
              "  <span class='refnanny'>__Pyx_RefNannyFinishContext</span>();\n",
              "  return __pyx_r;\n",
              "}\n",
              "\n",
              "static PyObject *__pyx_pf_46_cython_magic_494df0341a0d38d64b5daa665b42e3ee_target_mean_v7(CYTHON_UNUSED PyObject *__pyx_self, PyObject *__pyx_v_data, PyObject *__pyx_v_y_name, PyObject *__pyx_v_x_name) {\n",
              "  int __pyx_v_data_shape;\n",
              "  PyArrayObject *__pyx_v_result = 0;\n",
              "  PyObject *__pyx_v_value_dict = 0;\n",
              "  PyObject *__pyx_v_count_dict = 0;\n",
              "  PyArrayObject *__pyx_v_x_val_series = 0;\n",
              "  PyArrayObject *__pyx_v_y_val_series = 0;\n",
              "  int __pyx_v_i;\n",
              "  PyObject *__pyx_v_data_loc_x = NULL;\n",
              "  PyObject *__pyx_v_data_loc_y = NULL;\n",
              "  __Pyx_LocalBuf_ND __pyx_pybuffernd_result;\n",
              "  __Pyx_Buffer __pyx_pybuffer_result;\n",
              "  __Pyx_LocalBuf_ND __pyx_pybuffernd_x_val_series;\n",
              "  __Pyx_Buffer __pyx_pybuffer_x_val_series;\n",
              "  __Pyx_LocalBuf_ND __pyx_pybuffernd_y_val_series;\n",
              "  __Pyx_Buffer __pyx_pybuffer_y_val_series;\n",
              "  PyObject *__pyx_r = NULL;\n",
              "  <span class='refnanny'>__Pyx_RefNannyDeclarations</span>\n",
              "  <span class='refnanny'>__Pyx_RefNannySetupContext</span>(\"target_mean_v7\", 0);\n",
              "  __pyx_pybuffer_result.pybuffer.buf = NULL;\n",
              "  __pyx_pybuffer_result.refcount = 0;\n",
              "  __pyx_pybuffernd_result.data = NULL;\n",
              "  __pyx_pybuffernd_result.rcbuffer = &amp;__pyx_pybuffer_result;\n",
              "  __pyx_pybuffer_x_val_series.pybuffer.buf = NULL;\n",
              "  __pyx_pybuffer_x_val_series.refcount = 0;\n",
              "  __pyx_pybuffernd_x_val_series.data = NULL;\n",
              "  __pyx_pybuffernd_x_val_series.rcbuffer = &amp;__pyx_pybuffer_x_val_series;\n",
              "  __pyx_pybuffer_y_val_series.pybuffer.buf = NULL;\n",
              "  __pyx_pybuffer_y_val_series.refcount = 0;\n",
              "  __pyx_pybuffernd_y_val_series.data = NULL;\n",
              "  __pyx_pybuffernd_y_val_series.rcbuffer = &amp;__pyx_pybuffer_y_val_series;\n",
              "/* … */\n",
              "  /* function exit code */\n",
              "  __pyx_L1_error:;\n",
              "  <span class='pyx_macro_api'>__Pyx_XDECREF</span>(__pyx_t_1);\n",
              "  <span class='pyx_macro_api'>__Pyx_XDECREF</span>(__pyx_t_2);\n",
              "  <span class='pyx_macro_api'>__Pyx_XDECREF</span>(__pyx_t_4);\n",
              "  <span class='pyx_macro_api'>__Pyx_XDECREF</span>(__pyx_t_5);\n",
              "  { PyObject *__pyx_type, *__pyx_value, *__pyx_tb;\n",
              "    __Pyx_PyThreadState_declare\n",
              "    __Pyx_PyThreadState_assign\n",
              "    <span class='pyx_c_api'>__Pyx_ErrFetch</span>(&amp;__pyx_type, &amp;__pyx_value, &amp;__pyx_tb);\n",
              "    <span class='pyx_c_api'>__Pyx_SafeReleaseBuffer</span>(&amp;__pyx_pybuffernd_result.rcbuffer-&gt;pybuffer);\n",
              "    <span class='pyx_c_api'>__Pyx_SafeReleaseBuffer</span>(&amp;__pyx_pybuffernd_x_val_series.rcbuffer-&gt;pybuffer);\n",
              "    <span class='pyx_c_api'>__Pyx_SafeReleaseBuffer</span>(&amp;__pyx_pybuffernd_y_val_series.rcbuffer-&gt;pybuffer);\n",
              "  <span class='pyx_c_api'>__Pyx_ErrRestore</span>(__pyx_type, __pyx_value, __pyx_tb);}\n",
              "  <span class='pyx_c_api'>__Pyx_AddTraceback</span>(\"_cython_magic_494df0341a0d38d64b5daa665b42e3ee.target_mean_v7\", __pyx_clineno, __pyx_lineno, __pyx_filename);\n",
              "  __pyx_r = NULL;\n",
              "  goto __pyx_L2;\n",
              "  __pyx_L0:;\n",
              "  <span class='pyx_c_api'>__Pyx_SafeReleaseBuffer</span>(&amp;__pyx_pybuffernd_result.rcbuffer-&gt;pybuffer);\n",
              "  <span class='pyx_c_api'>__Pyx_SafeReleaseBuffer</span>(&amp;__pyx_pybuffernd_x_val_series.rcbuffer-&gt;pybuffer);\n",
              "  <span class='pyx_c_api'>__Pyx_SafeReleaseBuffer</span>(&amp;__pyx_pybuffernd_y_val_series.rcbuffer-&gt;pybuffer);\n",
              "  __pyx_L2:;\n",
              "  <span class='pyx_macro_api'>__Pyx_XDECREF</span>((PyObject *)__pyx_v_result);\n",
              "  <span class='pyx_macro_api'>__Pyx_XDECREF</span>(__pyx_v_value_dict);\n",
              "  <span class='pyx_macro_api'>__Pyx_XDECREF</span>(__pyx_v_count_dict);\n",
              "  <span class='pyx_macro_api'>__Pyx_XDECREF</span>((PyObject *)__pyx_v_x_val_series);\n",
              "  <span class='pyx_macro_api'>__Pyx_XDECREF</span>((PyObject *)__pyx_v_y_val_series);\n",
              "  <span class='pyx_macro_api'>__Pyx_XDECREF</span>(__pyx_v_data_loc_x);\n",
              "  <span class='pyx_macro_api'>__Pyx_XDECREF</span>(__pyx_v_data_loc_y);\n",
              "  <span class='refnanny'>__Pyx_XGIVEREF</span>(__pyx_r);\n",
              "  <span class='refnanny'>__Pyx_RefNannyFinishContext</span>();\n",
              "  return __pyx_r;\n",
              "}\n",
              "/* … */\n",
              "  __pyx_tuple__3 = <span class='py_c_api'>PyTuple_Pack</span>(12, __pyx_n_s_data, __pyx_n_s_y_name, __pyx_n_s_x_name, __pyx_n_s_data_shape, __pyx_n_s_result, __pyx_n_s_value_dict, __pyx_n_s_count_dict, __pyx_n_s_x_val_series, __pyx_n_s_y_val_series, __pyx_n_s_i, __pyx_n_s_data_loc_x, __pyx_n_s_data_loc_y);<span class='error_goto'> if (unlikely(!__pyx_tuple__3)) __PYX_ERR(0, 4, __pyx_L1_error)</span>\n",
              "  <span class='refnanny'>__Pyx_GOTREF</span>(__pyx_tuple__3);\n",
              "  <span class='refnanny'>__Pyx_GIVEREF</span>(__pyx_tuple__3);\n",
              "/* … */\n",
              "  __pyx_t_1 = PyCFunction_NewEx(&amp;__pyx_mdef_46_cython_magic_494df0341a0d38d64b5daa665b42e3ee_1target_mean_v7, NULL, __pyx_n_s_cython_magic_494df0341a0d38d64b);<span class='error_goto'> if (unlikely(!__pyx_t_1)) __PYX_ERR(0, 4, __pyx_L1_error)</span>\n",
              "  <span class='refnanny'>__Pyx_GOTREF</span>(__pyx_t_1);\n",
              "  if (<span class='py_c_api'>PyDict_SetItem</span>(__pyx_d, __pyx_n_s_target_mean_v7, __pyx_t_1) &lt; 0) <span class='error_goto'>__PYX_ERR(0, 4, __pyx_L1_error)</span>\n",
              "  <span class='pyx_macro_api'>__Pyx_DECREF</span>(__pyx_t_1); __pyx_t_1 = 0;\n",
              "</pre><pre class=\"cython line score-0\">&#xA0;<span class=\"\">05</span>:   <span class=\"k\">cdef</span><span class=\"p\">:</span></pre>\n",
              "<pre class=\"cython line score-13\" onclick=\"(function(s){s.display=s.display==='block'?'none':'block'})(this.nextElementSibling.style)\">+<span class=\"\">06</span>:     <span class=\"nb\">int</span> <span class=\"n\">data_shape</span> <span class=\"o\">=</span> <span class=\"n\">data</span><span class=\"o\">.</span><span class=\"n\">shape</span><span class=\"p\">[</span><span class=\"mf\">0</span><span class=\"p\">]</span></pre>\n",
              "<pre class='cython code score-13 '>  __pyx_t_1 = <span class='pyx_c_api'>__Pyx_PyObject_GetAttrStr</span>(__pyx_v_data, __pyx_n_s_shape);<span class='error_goto'> if (unlikely(!__pyx_t_1)) __PYX_ERR(0, 6, __pyx_L1_error)</span>\n",
              "  <span class='refnanny'>__Pyx_GOTREF</span>(__pyx_t_1);\n",
              "  __pyx_t_2 = <span class='pyx_c_api'>__Pyx_GetItemInt</span>(__pyx_t_1, 0, long, 1, __Pyx_PyInt_From_long, 0, 0, 1);<span class='error_goto'> if (unlikely(!__pyx_t_2)) __PYX_ERR(0, 6, __pyx_L1_error)</span>\n",
              "  <span class='refnanny'>__Pyx_GOTREF</span>(__pyx_t_2);\n",
              "  <span class='pyx_macro_api'>__Pyx_DECREF</span>(__pyx_t_1); __pyx_t_1 = 0;\n",
              "  __pyx_t_3 = <span class='pyx_c_api'>__Pyx_PyInt_As_int</span>(__pyx_t_2); if (unlikely((__pyx_t_3 == (int)-1) &amp;&amp; <span class='py_c_api'>PyErr_Occurred</span>())) <span class='error_goto'>__PYX_ERR(0, 6, __pyx_L1_error)</span>\n",
              "  <span class='pyx_macro_api'>__Pyx_DECREF</span>(__pyx_t_2); __pyx_t_2 = 0;\n",
              "  __pyx_v_data_shape = __pyx_t_3;\n",
              "</pre><pre class=\"cython line score-27\" onclick=\"(function(s){s.display=s.display==='block'?'none':'block'})(this.nextElementSibling.style)\">+<span class=\"\">07</span>:     <span class=\"n\">cnp</span><span class=\"o\">.</span><span class=\"n\">ndarray</span><span class=\"p\">[</span><span class=\"n\">cnp</span><span class=\"o\">.</span><span class=\"n\">float64_t</span><span class=\"p\">]</span> <span class=\"n\">result</span><span class=\"o\">=</span> <span class=\"n\">np</span><span class=\"o\">.</span><span class=\"n\">zeros</span><span class=\"p\">(</span><span class=\"n\">data_shape</span><span class=\"p\">)</span></pre>\n",
              "<pre class='cython code score-27 '>  <span class='pyx_c_api'>__Pyx_GetModuleGlobalName</span>(__pyx_t_1, __pyx_n_s_np);<span class='error_goto'> if (unlikely(!__pyx_t_1)) __PYX_ERR(0, 7, __pyx_L1_error)</span>\n",
              "  <span class='refnanny'>__Pyx_GOTREF</span>(__pyx_t_1);\n",
              "  __pyx_t_4 = <span class='pyx_c_api'>__Pyx_PyObject_GetAttrStr</span>(__pyx_t_1, __pyx_n_s_zeros);<span class='error_goto'> if (unlikely(!__pyx_t_4)) __PYX_ERR(0, 7, __pyx_L1_error)</span>\n",
              "  <span class='refnanny'>__Pyx_GOTREF</span>(__pyx_t_4);\n",
              "  <span class='pyx_macro_api'>__Pyx_DECREF</span>(__pyx_t_1); __pyx_t_1 = 0;\n",
              "  __pyx_t_1 = <span class='pyx_c_api'>__Pyx_PyInt_From_int</span>(__pyx_v_data_shape);<span class='error_goto'> if (unlikely(!__pyx_t_1)) __PYX_ERR(0, 7, __pyx_L1_error)</span>\n",
              "  <span class='refnanny'>__Pyx_GOTREF</span>(__pyx_t_1);\n",
              "  __pyx_t_5 = NULL;\n",
              "  if (CYTHON_UNPACK_METHODS &amp;&amp; unlikely(<span class='py_c_api'>PyMethod_Check</span>(__pyx_t_4))) {\n",
              "    __pyx_t_5 = <span class='py_macro_api'>PyMethod_GET_SELF</span>(__pyx_t_4);\n",
              "    if (likely(__pyx_t_5)) {\n",
              "      PyObject* function = <span class='py_macro_api'>PyMethod_GET_FUNCTION</span>(__pyx_t_4);\n",
              "      <span class='pyx_macro_api'>__Pyx_INCREF</span>(__pyx_t_5);\n",
              "      <span class='pyx_macro_api'>__Pyx_INCREF</span>(function);\n",
              "      <span class='pyx_macro_api'>__Pyx_DECREF_SET</span>(__pyx_t_4, function);\n",
              "    }\n",
              "  }\n",
              "  __pyx_t_2 = (__pyx_t_5) ? __Pyx_PyObject_Call2Args(__pyx_t_4, __pyx_t_5, __pyx_t_1) : <span class='pyx_c_api'>__Pyx_PyObject_CallOneArg</span>(__pyx_t_4, __pyx_t_1);\n",
              "  <span class='pyx_macro_api'>__Pyx_XDECREF</span>(__pyx_t_5); __pyx_t_5 = 0;\n",
              "  <span class='pyx_macro_api'>__Pyx_DECREF</span>(__pyx_t_1); __pyx_t_1 = 0;\n",
              "  if (unlikely(!__pyx_t_2)) <span class='error_goto'>__PYX_ERR(0, 7, __pyx_L1_error)</span>\n",
              "  <span class='refnanny'>__Pyx_GOTREF</span>(__pyx_t_2);\n",
              "  <span class='pyx_macro_api'>__Pyx_DECREF</span>(__pyx_t_4); __pyx_t_4 = 0;\n",
              "  if (!(likely(((__pyx_t_2) == Py_None) || likely(<span class='pyx_c_api'>__Pyx_TypeTest</span>(__pyx_t_2, __pyx_ptype_5numpy_ndarray))))) <span class='error_goto'>__PYX_ERR(0, 7, __pyx_L1_error)</span>\n",
              "  __pyx_t_6 = ((PyArrayObject *)__pyx_t_2);\n",
              "  {\n",
              "    __Pyx_BufFmt_StackElem __pyx_stack[1];\n",
              "    if (unlikely(<span class='pyx_c_api'>__Pyx_GetBufferAndValidate</span>(&amp;__pyx_pybuffernd_result.rcbuffer-&gt;pybuffer, (PyObject*)__pyx_t_6, &amp;__Pyx_TypeInfo_nn___pyx_t_5numpy_float64_t, PyBUF_FORMAT| PyBUF_STRIDES| PyBUF_WRITABLE, 1, 0, __pyx_stack) == -1)) {\n",
              "      __pyx_v_result = ((PyArrayObject *)Py_None); <span class='pyx_macro_api'>__Pyx_INCREF</span>(Py_None); __pyx_pybuffernd_result.rcbuffer-&gt;pybuffer.buf = NULL;\n",
              "      <span class='error_goto'>__PYX_ERR(0, 7, __pyx_L1_error)</span>\n",
              "    } else {__pyx_pybuffernd_result.diminfo[0].strides = __pyx_pybuffernd_result.rcbuffer-&gt;pybuffer.strides[0]; __pyx_pybuffernd_result.diminfo[0].shape = __pyx_pybuffernd_result.rcbuffer-&gt;pybuffer.shape[0];\n",
              "    }\n",
              "  }\n",
              "  __pyx_t_6 = 0;\n",
              "  __pyx_v_result = ((PyArrayObject *)__pyx_t_2);\n",
              "  __pyx_t_2 = 0;\n",
              "</pre><pre class=\"cython line score-2\" onclick=\"(function(s){s.display=s.display==='block'?'none':'block'})(this.nextElementSibling.style)\">+<span class=\"\">08</span>:     <span class=\"nb\">dict</span> <span class=\"n\">value_dict</span> <span class=\"o\">=</span> <span class=\"p\">{}</span></pre>\n",
              "<pre class='cython code score-2 '>  __pyx_t_2 = <span class='pyx_c_api'>__Pyx_PyDict_NewPresized</span>(0);<span class='error_goto'> if (unlikely(!__pyx_t_2)) __PYX_ERR(0, 8, __pyx_L1_error)</span>\n",
              "  <span class='refnanny'>__Pyx_GOTREF</span>(__pyx_t_2);\n",
              "  __pyx_v_value_dict = ((PyObject*)__pyx_t_2);\n",
              "  __pyx_t_2 = 0;\n",
              "</pre><pre class=\"cython line score-2\" onclick=\"(function(s){s.display=s.display==='block'?'none':'block'})(this.nextElementSibling.style)\">+<span class=\"\">09</span>:     <span class=\"nb\">dict</span> <span class=\"n\">count_dict</span> <span class=\"o\">=</span> <span class=\"p\">{}</span></pre>\n",
              "<pre class='cython code score-2 '>  __pyx_t_2 = <span class='pyx_c_api'>__Pyx_PyDict_NewPresized</span>(0);<span class='error_goto'> if (unlikely(!__pyx_t_2)) __PYX_ERR(0, 9, __pyx_L1_error)</span>\n",
              "  <span class='refnanny'>__Pyx_GOTREF</span>(__pyx_t_2);\n",
              "  __pyx_v_count_dict = ((PyObject*)__pyx_t_2);\n",
              "  __pyx_t_2 = 0;\n",
              "</pre><pre class=\"cython line score-10\" onclick=\"(function(s){s.display=s.display==='block'?'none':'block'})(this.nextElementSibling.style)\">+<span class=\"\">10</span>:     <span class=\"n\">cnp</span><span class=\"o\">.</span><span class=\"n\">ndarray</span><span class=\"p\">[</span><span class=\"n\">cnp</span><span class=\"o\">.</span><span class=\"n\">int64_t</span><span class=\"p\">]</span> <span class=\"n\">x_val_series</span> <span class=\"o\">=</span> <span class=\"n\">data</span><span class=\"p\">[</span><span class=\"n\">x_name</span><span class=\"p\">]</span><span class=\"o\">.</span><span class=\"n\">values</span></pre>\n",
              "<pre class='cython code score-10 '>  __pyx_t_2 = <span class='pyx_c_api'>__Pyx_PyObject_Dict_GetItem</span>(__pyx_v_data, __pyx_v_x_name);<span class='error_goto'> if (unlikely(!__pyx_t_2)) __PYX_ERR(0, 10, __pyx_L1_error)</span>\n",
              "  <span class='refnanny'>__Pyx_GOTREF</span>(__pyx_t_2);\n",
              "  __pyx_t_4 = <span class='pyx_c_api'>__Pyx_PyObject_GetAttrStr</span>(__pyx_t_2, __pyx_n_s_values);<span class='error_goto'> if (unlikely(!__pyx_t_4)) __PYX_ERR(0, 10, __pyx_L1_error)</span>\n",
              "  <span class='refnanny'>__Pyx_GOTREF</span>(__pyx_t_4);\n",
              "  <span class='pyx_macro_api'>__Pyx_DECREF</span>(__pyx_t_2); __pyx_t_2 = 0;\n",
              "  if (!(likely(((__pyx_t_4) == Py_None) || likely(<span class='pyx_c_api'>__Pyx_TypeTest</span>(__pyx_t_4, __pyx_ptype_5numpy_ndarray))))) <span class='error_goto'>__PYX_ERR(0, 10, __pyx_L1_error)</span>\n",
              "  __pyx_t_7 = ((PyArrayObject *)__pyx_t_4);\n",
              "  {\n",
              "    __Pyx_BufFmt_StackElem __pyx_stack[1];\n",
              "    if (unlikely(<span class='pyx_c_api'>__Pyx_GetBufferAndValidate</span>(&amp;__pyx_pybuffernd_x_val_series.rcbuffer-&gt;pybuffer, (PyObject*)__pyx_t_7, &amp;__Pyx_TypeInfo_nn___pyx_t_5numpy_int64_t, PyBUF_FORMAT| PyBUF_STRIDES, 1, 0, __pyx_stack) == -1)) {\n",
              "      __pyx_v_x_val_series = ((PyArrayObject *)Py_None); <span class='pyx_macro_api'>__Pyx_INCREF</span>(Py_None); __pyx_pybuffernd_x_val_series.rcbuffer-&gt;pybuffer.buf = NULL;\n",
              "      <span class='error_goto'>__PYX_ERR(0, 10, __pyx_L1_error)</span>\n",
              "    } else {__pyx_pybuffernd_x_val_series.diminfo[0].strides = __pyx_pybuffernd_x_val_series.rcbuffer-&gt;pybuffer.strides[0]; __pyx_pybuffernd_x_val_series.diminfo[0].shape = __pyx_pybuffernd_x_val_series.rcbuffer-&gt;pybuffer.shape[0];\n",
              "    }\n",
              "  }\n",
              "  __pyx_t_7 = 0;\n",
              "  __pyx_v_x_val_series = ((PyArrayObject *)__pyx_t_4);\n",
              "  __pyx_t_4 = 0;\n",
              "</pre><pre class=\"cython line score-10\" onclick=\"(function(s){s.display=s.display==='block'?'none':'block'})(this.nextElementSibling.style)\">+<span class=\"\">11</span>:     <span class=\"n\">cnp</span><span class=\"o\">.</span><span class=\"n\">ndarray</span><span class=\"p\">[</span><span class=\"n\">cnp</span><span class=\"o\">.</span><span class=\"n\">int64_t</span><span class=\"p\">]</span> <span class=\"n\">y_val_series</span> <span class=\"o\">=</span> <span class=\"n\">data</span><span class=\"p\">[</span><span class=\"n\">y_name</span><span class=\"p\">]</span><span class=\"o\">.</span><span class=\"n\">values</span></pre>\n",
              "<pre class='cython code score-10 '>  __pyx_t_4 = <span class='pyx_c_api'>__Pyx_PyObject_Dict_GetItem</span>(__pyx_v_data, __pyx_v_y_name);<span class='error_goto'> if (unlikely(!__pyx_t_4)) __PYX_ERR(0, 11, __pyx_L1_error)</span>\n",
              "  <span class='refnanny'>__Pyx_GOTREF</span>(__pyx_t_4);\n",
              "  __pyx_t_2 = <span class='pyx_c_api'>__Pyx_PyObject_GetAttrStr</span>(__pyx_t_4, __pyx_n_s_values);<span class='error_goto'> if (unlikely(!__pyx_t_2)) __PYX_ERR(0, 11, __pyx_L1_error)</span>\n",
              "  <span class='refnanny'>__Pyx_GOTREF</span>(__pyx_t_2);\n",
              "  <span class='pyx_macro_api'>__Pyx_DECREF</span>(__pyx_t_4); __pyx_t_4 = 0;\n",
              "  if (!(likely(((__pyx_t_2) == Py_None) || likely(<span class='pyx_c_api'>__Pyx_TypeTest</span>(__pyx_t_2, __pyx_ptype_5numpy_ndarray))))) <span class='error_goto'>__PYX_ERR(0, 11, __pyx_L1_error)</span>\n",
              "  __pyx_t_8 = ((PyArrayObject *)__pyx_t_2);\n",
              "  {\n",
              "    __Pyx_BufFmt_StackElem __pyx_stack[1];\n",
              "    if (unlikely(<span class='pyx_c_api'>__Pyx_GetBufferAndValidate</span>(&amp;__pyx_pybuffernd_y_val_series.rcbuffer-&gt;pybuffer, (PyObject*)__pyx_t_8, &amp;__Pyx_TypeInfo_nn___pyx_t_5numpy_int64_t, PyBUF_FORMAT| PyBUF_STRIDES, 1, 0, __pyx_stack) == -1)) {\n",
              "      __pyx_v_y_val_series = ((PyArrayObject *)Py_None); <span class='pyx_macro_api'>__Pyx_INCREF</span>(Py_None); __pyx_pybuffernd_y_val_series.rcbuffer-&gt;pybuffer.buf = NULL;\n",
              "      <span class='error_goto'>__PYX_ERR(0, 11, __pyx_L1_error)</span>\n",
              "    } else {__pyx_pybuffernd_y_val_series.diminfo[0].strides = __pyx_pybuffernd_y_val_series.rcbuffer-&gt;pybuffer.strides[0]; __pyx_pybuffernd_y_val_series.diminfo[0].shape = __pyx_pybuffernd_y_val_series.rcbuffer-&gt;pybuffer.shape[0];\n",
              "    }\n",
              "  }\n",
              "  __pyx_t_8 = 0;\n",
              "  __pyx_v_y_val_series = ((PyArrayObject *)__pyx_t_2);\n",
              "  __pyx_t_2 = 0;\n",
              "</pre><pre class=\"cython line score-0\" onclick=\"(function(s){s.display=s.display==='block'?'none':'block'})(this.nextElementSibling.style)\">+<span class=\"\">12</span>:   <span class=\"k\">for</span> <span class=\"n\">i</span> <span class=\"ow\">in</span> <span class=\"nb\">range</span><span class=\"p\">(</span><span class=\"n\">data_shape</span><span class=\"p\">):</span></pre>\n",
              "<pre class='cython code score-0 '>  __pyx_t_3 = __pyx_v_data_shape;\n",
              "  __pyx_t_9 = __pyx_t_3;\n",
              "  for (__pyx_t_10 = 0; __pyx_t_10 &lt; __pyx_t_9; __pyx_t_10+=1) {\n",
              "    __pyx_v_i = __pyx_t_10;\n",
              "</pre><pre class=\"cython line score-3\" onclick=\"(function(s){s.display=s.display==='block'?'none':'block'})(this.nextElementSibling.style)\">+<span class=\"\">13</span>:     <span class=\"n\">data_loc_x</span> <span class=\"o\">=</span> <span class=\"n\">x_val_series</span><span class=\"p\">[</span><span class=\"n\">i</span><span class=\"p\">]</span></pre>\n",
              "<pre class='cython code score-3 '>    __pyx_t_11 = __pyx_v_i;\n",
              "    __pyx_t_12 = -1;\n",
              "    if (__pyx_t_11 &lt; 0) {\n",
              "      __pyx_t_11 += __pyx_pybuffernd_x_val_series.diminfo[0].shape;\n",
              "      if (unlikely(__pyx_t_11 &lt; 0)) __pyx_t_12 = 0;\n",
              "    } else if (unlikely(__pyx_t_11 &gt;= __pyx_pybuffernd_x_val_series.diminfo[0].shape)) __pyx_t_12 = 0;\n",
              "    if (unlikely(__pyx_t_12 != -1)) {\n",
              "      <span class='pyx_c_api'>__Pyx_RaiseBufferIndexError</span>(__pyx_t_12);\n",
              "      <span class='error_goto'>__PYX_ERR(0, 13, __pyx_L1_error)</span>\n",
              "    }\n",
              "    __pyx_t_2 = __Pyx_PyInt_From_npy_int64((*__Pyx_BufPtrStrided1d(__pyx_t_5numpy_int64_t *, __pyx_pybuffernd_x_val_series.rcbuffer-&gt;pybuffer.buf, __pyx_t_11, __pyx_pybuffernd_x_val_series.diminfo[0].strides)));<span class='error_goto'> if (unlikely(!__pyx_t_2)) __PYX_ERR(0, 13, __pyx_L1_error)</span>\n",
              "    <span class='refnanny'>__Pyx_GOTREF</span>(__pyx_t_2);\n",
              "    <span class='pyx_macro_api'>__Pyx_XDECREF_SET</span>(__pyx_v_data_loc_x, __pyx_t_2);\n",
              "    __pyx_t_2 = 0;\n",
              "</pre><pre class=\"cython line score-3\" onclick=\"(function(s){s.display=s.display==='block'?'none':'block'})(this.nextElementSibling.style)\">+<span class=\"\">14</span>:     <span class=\"n\">data_loc_y</span> <span class=\"o\">=</span> <span class=\"n\">y_val_series</span><span class=\"p\">[</span><span class=\"n\">i</span><span class=\"p\">]</span></pre>\n",
              "<pre class='cython code score-3 '>    __pyx_t_11 = __pyx_v_i;\n",
              "    __pyx_t_12 = -1;\n",
              "    if (__pyx_t_11 &lt; 0) {\n",
              "      __pyx_t_11 += __pyx_pybuffernd_y_val_series.diminfo[0].shape;\n",
              "      if (unlikely(__pyx_t_11 &lt; 0)) __pyx_t_12 = 0;\n",
              "    } else if (unlikely(__pyx_t_11 &gt;= __pyx_pybuffernd_y_val_series.diminfo[0].shape)) __pyx_t_12 = 0;\n",
              "    if (unlikely(__pyx_t_12 != -1)) {\n",
              "      <span class='pyx_c_api'>__Pyx_RaiseBufferIndexError</span>(__pyx_t_12);\n",
              "      <span class='error_goto'>__PYX_ERR(0, 14, __pyx_L1_error)</span>\n",
              "    }\n",
              "    __pyx_t_2 = __Pyx_PyInt_From_npy_int64((*__Pyx_BufPtrStrided1d(__pyx_t_5numpy_int64_t *, __pyx_pybuffernd_y_val_series.rcbuffer-&gt;pybuffer.buf, __pyx_t_11, __pyx_pybuffernd_y_val_series.diminfo[0].strides)));<span class='error_goto'> if (unlikely(!__pyx_t_2)) __PYX_ERR(0, 14, __pyx_L1_error)</span>\n",
              "    <span class='refnanny'>__Pyx_GOTREF</span>(__pyx_t_2);\n",
              "    <span class='pyx_macro_api'>__Pyx_XDECREF_SET</span>(__pyx_v_data_loc_y, __pyx_t_2);\n",
              "    __pyx_t_2 = 0;\n",
              "</pre><pre class=\"cython line score-2\" onclick=\"(function(s){s.display=s.display==='block'?'none':'block'})(this.nextElementSibling.style)\">+<span class=\"\">15</span>:     <span class=\"k\">if</span> <span class=\"n\">data_loc_x</span> <span class=\"ow\">not</span> <span class=\"ow\">in</span> <span class=\"n\">value_dict</span><span class=\"p\">:</span></pre>\n",
              "<pre class='cython code score-2 '>    __pyx_t_13 = (<span class='pyx_c_api'>__Pyx_PyDict_ContainsTF</span>(__pyx_v_data_loc_x, __pyx_v_value_dict, Py_NE)); if (unlikely(__pyx_t_13 &lt; 0)) <span class='error_goto'>__PYX_ERR(0, 15, __pyx_L1_error)</span>\n",
              "    __pyx_t_14 = (__pyx_t_13 != 0);\n",
              "    if (__pyx_t_14) {\n",
              "/* … */\n",
              "      goto __pyx_L5;\n",
              "    }\n",
              "</pre><pre class=\"cython line score-5\" onclick=\"(function(s){s.display=s.display==='block'?'none':'block'})(this.nextElementSibling.style)\">+<span class=\"\">16</span>:       <span class=\"n\">value_dict</span><span class=\"p\">[</span><span class=\"n\">data_loc_x</span><span class=\"p\">]</span> <span class=\"o\">=</span> <span class=\"n\">data_loc_y</span></pre>\n",
              "<pre class='cython code score-5 '>      if (unlikely(<span class='py_c_api'>PyDict_SetItem</span>(__pyx_v_value_dict, __pyx_v_data_loc_x, __pyx_v_data_loc_y) &lt; 0)) <span class='error_goto'>__PYX_ERR(0, 16, __pyx_L1_error)</span>\n",
              "</pre><pre class=\"cython line score-5\" onclick=\"(function(s){s.display=s.display==='block'?'none':'block'})(this.nextElementSibling.style)\">+<span class=\"\">17</span>:       <span class=\"n\">count_dict</span><span class=\"p\">[</span><span class=\"n\">data_loc_x</span><span class=\"p\">]</span> <span class=\"o\">=</span> <span class=\"mf\">1</span></pre>\n",
              "<pre class='cython code score-5 '>      if (unlikely(<span class='py_c_api'>PyDict_SetItem</span>(__pyx_v_count_dict, __pyx_v_data_loc_x, __pyx_int_1) &lt; 0)) <span class='error_goto'>__PYX_ERR(0, 17, __pyx_L1_error)</span>\n",
              "</pre><pre class=\"cython line score-0\">&#xA0;<span class=\"\">18</span>:     <span class=\"k\">else</span><span class=\"p\">:</span></pre>\n",
              "<pre class=\"cython line score-16\" onclick=\"(function(s){s.display=s.display==='block'?'none':'block'})(this.nextElementSibling.style)\">+<span class=\"\">19</span>:       <span class=\"n\">value_dict</span><span class=\"p\">[</span><span class=\"n\">data_loc_x</span><span class=\"p\">]</span> <span class=\"o\">+=</span> <span class=\"n\">data_loc_y</span></pre>\n",
              "<pre class='cython code score-16 '>    /*else*/ {\n",
              "      <span class='pyx_macro_api'>__Pyx_INCREF</span>(__pyx_v_data_loc_x);\n",
              "      __pyx_t_2 = __pyx_v_data_loc_x;\n",
              "      __pyx_t_4 = <span class='pyx_c_api'>__Pyx_PyDict_GetItem</span>(__pyx_v_value_dict, __pyx_t_2);<span class='error_goto'> if (unlikely(!__pyx_t_4)) __PYX_ERR(0, 19, __pyx_L1_error)</span>\n",
              "      <span class='refnanny'>__Pyx_GOTREF</span>(__pyx_t_4);\n",
              "      __pyx_t_1 = <span class='py_c_api'>PyNumber_InPlaceAdd</span>(__pyx_t_4, __pyx_v_data_loc_y);<span class='error_goto'> if (unlikely(!__pyx_t_1)) __PYX_ERR(0, 19, __pyx_L1_error)</span>\n",
              "      <span class='refnanny'>__Pyx_GOTREF</span>(__pyx_t_1);\n",
              "      <span class='pyx_macro_api'>__Pyx_DECREF</span>(__pyx_t_4); __pyx_t_4 = 0;\n",
              "      if (unlikely(<span class='py_c_api'>PyDict_SetItem</span>(__pyx_v_value_dict, __pyx_t_2, __pyx_t_1) &lt; 0)) <span class='error_goto'>__PYX_ERR(0, 19, __pyx_L1_error)</span>\n",
              "      <span class='pyx_macro_api'>__Pyx_DECREF</span>(__pyx_t_1); __pyx_t_1 = 0;\n",
              "      <span class='pyx_macro_api'>__Pyx_DECREF</span>(__pyx_t_2); __pyx_t_2 = 0;\n",
              "</pre><pre class=\"cython line score-13\" onclick=\"(function(s){s.display=s.display==='block'?'none':'block'})(this.nextElementSibling.style)\">+<span class=\"\">20</span>:       <span class=\"n\">count_dict</span><span class=\"p\">[</span><span class=\"n\">data_loc_x</span><span class=\"p\">]</span> <span class=\"o\">+=</span> <span class=\"mf\">1</span></pre>\n",
              "<pre class='cython code score-13 '>      <span class='pyx_macro_api'>__Pyx_INCREF</span>(__pyx_v_data_loc_x);\n",
              "      __pyx_t_2 = __pyx_v_data_loc_x;\n",
              "      __pyx_t_1 = <span class='pyx_c_api'>__Pyx_PyDict_GetItem</span>(__pyx_v_count_dict, __pyx_t_2);<span class='error_goto'> if (unlikely(!__pyx_t_1)) __PYX_ERR(0, 20, __pyx_L1_error)</span>\n",
              "      <span class='refnanny'>__Pyx_GOTREF</span>(__pyx_t_1);\n",
              "      __pyx_t_4 = <span class='pyx_c_api'>__Pyx_PyInt_AddObjC</span>(__pyx_t_1, __pyx_int_1, 1, 1, 0);<span class='error_goto'> if (unlikely(!__pyx_t_4)) __PYX_ERR(0, 20, __pyx_L1_error)</span>\n",
              "      <span class='refnanny'>__Pyx_GOTREF</span>(__pyx_t_4);\n",
              "      <span class='pyx_macro_api'>__Pyx_DECREF</span>(__pyx_t_1); __pyx_t_1 = 0;\n",
              "      if (unlikely(<span class='py_c_api'>PyDict_SetItem</span>(__pyx_v_count_dict, __pyx_t_2, __pyx_t_4) &lt; 0)) <span class='error_goto'>__PYX_ERR(0, 20, __pyx_L1_error)</span>\n",
              "      <span class='pyx_macro_api'>__Pyx_DECREF</span>(__pyx_t_4); __pyx_t_4 = 0;\n",
              "      <span class='pyx_macro_api'>__Pyx_DECREF</span>(__pyx_t_2); __pyx_t_2 = 0;\n",
              "    }\n",
              "    __pyx_L5:;\n",
              "  }\n",
              "</pre><pre class=\"cython line score-0\" onclick=\"(function(s){s.display=s.display==='block'?'none':'block'})(this.nextElementSibling.style)\">+<span class=\"\">21</span>:   <span class=\"k\">for</span> <span class=\"n\">i</span> <span class=\"ow\">in</span> <span class=\"nb\">range</span><span class=\"p\">(</span><span class=\"n\">data_shape</span><span class=\"p\">):</span></pre>\n",
              "<pre class='cython code score-0 '>  __pyx_t_3 = __pyx_v_data_shape;\n",
              "  __pyx_t_9 = __pyx_t_3;\n",
              "  for (__pyx_t_10 = 0; __pyx_t_10 &lt; __pyx_t_9; __pyx_t_10+=1) {\n",
              "    __pyx_v_i = __pyx_t_10;\n",
              "</pre><pre class=\"cython line score-3\" onclick=\"(function(s){s.display=s.display==='block'?'none':'block'})(this.nextElementSibling.style)\">+<span class=\"\">22</span>:     <span class=\"n\">data_loc_x</span> <span class=\"o\">=</span> <span class=\"n\">x_val_series</span><span class=\"p\">[</span><span class=\"n\">i</span><span class=\"p\">]</span></pre>\n",
              "<pre class='cython code score-3 '>    __pyx_t_11 = __pyx_v_i;\n",
              "    __pyx_t_12 = -1;\n",
              "    if (__pyx_t_11 &lt; 0) {\n",
              "      __pyx_t_11 += __pyx_pybuffernd_x_val_series.diminfo[0].shape;\n",
              "      if (unlikely(__pyx_t_11 &lt; 0)) __pyx_t_12 = 0;\n",
              "    } else if (unlikely(__pyx_t_11 &gt;= __pyx_pybuffernd_x_val_series.diminfo[0].shape)) __pyx_t_12 = 0;\n",
              "    if (unlikely(__pyx_t_12 != -1)) {\n",
              "      <span class='pyx_c_api'>__Pyx_RaiseBufferIndexError</span>(__pyx_t_12);\n",
              "      <span class='error_goto'>__PYX_ERR(0, 22, __pyx_L1_error)</span>\n",
              "    }\n",
              "    __pyx_t_2 = __Pyx_PyInt_From_npy_int64((*__Pyx_BufPtrStrided1d(__pyx_t_5numpy_int64_t *, __pyx_pybuffernd_x_val_series.rcbuffer-&gt;pybuffer.buf, __pyx_t_11, __pyx_pybuffernd_x_val_series.diminfo[0].strides)));<span class='error_goto'> if (unlikely(!__pyx_t_2)) __PYX_ERR(0, 22, __pyx_L1_error)</span>\n",
              "    <span class='refnanny'>__Pyx_GOTREF</span>(__pyx_t_2);\n",
              "    <span class='pyx_macro_api'>__Pyx_XDECREF_SET</span>(__pyx_v_data_loc_x, __pyx_t_2);\n",
              "    __pyx_t_2 = 0;\n",
              "</pre><pre class=\"cython line score-3\" onclick=\"(function(s){s.display=s.display==='block'?'none':'block'})(this.nextElementSibling.style)\">+<span class=\"\">23</span>:     <span class=\"n\">data_loc_y</span> <span class=\"o\">=</span> <span class=\"n\">y_val_series</span><span class=\"p\">[</span><span class=\"n\">i</span><span class=\"p\">]</span></pre>\n",
              "<pre class='cython code score-3 '>    __pyx_t_11 = __pyx_v_i;\n",
              "    __pyx_t_12 = -1;\n",
              "    if (__pyx_t_11 &lt; 0) {\n",
              "      __pyx_t_11 += __pyx_pybuffernd_y_val_series.diminfo[0].shape;\n",
              "      if (unlikely(__pyx_t_11 &lt; 0)) __pyx_t_12 = 0;\n",
              "    } else if (unlikely(__pyx_t_11 &gt;= __pyx_pybuffernd_y_val_series.diminfo[0].shape)) __pyx_t_12 = 0;\n",
              "    if (unlikely(__pyx_t_12 != -1)) {\n",
              "      <span class='pyx_c_api'>__Pyx_RaiseBufferIndexError</span>(__pyx_t_12);\n",
              "      <span class='error_goto'>__PYX_ERR(0, 23, __pyx_L1_error)</span>\n",
              "    }\n",
              "    __pyx_t_2 = __Pyx_PyInt_From_npy_int64((*__Pyx_BufPtrStrided1d(__pyx_t_5numpy_int64_t *, __pyx_pybuffernd_y_val_series.rcbuffer-&gt;pybuffer.buf, __pyx_t_11, __pyx_pybuffernd_y_val_series.diminfo[0].strides)));<span class='error_goto'> if (unlikely(!__pyx_t_2)) __PYX_ERR(0, 23, __pyx_L1_error)</span>\n",
              "    <span class='refnanny'>__Pyx_GOTREF</span>(__pyx_t_2);\n",
              "    <span class='pyx_macro_api'>__Pyx_XDECREF_SET</span>(__pyx_v_data_loc_y, __pyx_t_2);\n",
              "    __pyx_t_2 = 0;\n",
              "</pre><pre class=\"cython line score-30\" onclick=\"(function(s){s.display=s.display==='block'?'none':'block'})(this.nextElementSibling.style)\">+<span class=\"\">24</span>:     <span class=\"n\">result</span><span class=\"p\">[</span><span class=\"n\">i</span><span class=\"p\">]</span> <span class=\"o\">=</span> <span class=\"p\">(</span><span class=\"n\">value_dict</span><span class=\"p\">[</span><span class=\"n\">data_loc_x</span><span class=\"p\">]</span><span class=\"o\">-</span><span class=\"n\">data_loc_y</span><span class=\"p\">)</span> <span class=\"o\">/</span> <span class=\"p\">(</span><span class=\"n\">count_dict</span><span class=\"p\">[</span><span class=\"n\">data_loc_x</span><span class=\"p\">]</span><span class=\"o\">-</span><span class=\"mf\">1</span><span class=\"p\">)</span></pre>\n",
              "<pre class='cython code score-30 '>    __pyx_t_2 = <span class='pyx_c_api'>__Pyx_PyDict_GetItem</span>(__pyx_v_value_dict, __pyx_v_data_loc_x);<span class='error_goto'> if (unlikely(!__pyx_t_2)) __PYX_ERR(0, 24, __pyx_L1_error)</span>\n",
              "    <span class='refnanny'>__Pyx_GOTREF</span>(__pyx_t_2);\n",
              "    __pyx_t_4 = <span class='py_c_api'>PyNumber_Subtract</span>(__pyx_t_2, __pyx_v_data_loc_y);<span class='error_goto'> if (unlikely(!__pyx_t_4)) __PYX_ERR(0, 24, __pyx_L1_error)</span>\n",
              "    <span class='refnanny'>__Pyx_GOTREF</span>(__pyx_t_4);\n",
              "    <span class='pyx_macro_api'>__Pyx_DECREF</span>(__pyx_t_2); __pyx_t_2 = 0;\n",
              "    __pyx_t_2 = <span class='pyx_c_api'>__Pyx_PyDict_GetItem</span>(__pyx_v_count_dict, __pyx_v_data_loc_x);<span class='error_goto'> if (unlikely(!__pyx_t_2)) __PYX_ERR(0, 24, __pyx_L1_error)</span>\n",
              "    <span class='refnanny'>__Pyx_GOTREF</span>(__pyx_t_2);\n",
              "    __pyx_t_1 = <span class='pyx_c_api'>__Pyx_PyInt_SubtractObjC</span>(__pyx_t_2, __pyx_int_1, 1, 0, 0);<span class='error_goto'> if (unlikely(!__pyx_t_1)) __PYX_ERR(0, 24, __pyx_L1_error)</span>\n",
              "    <span class='refnanny'>__Pyx_GOTREF</span>(__pyx_t_1);\n",
              "    <span class='pyx_macro_api'>__Pyx_DECREF</span>(__pyx_t_2); __pyx_t_2 = 0;\n",
              "    __pyx_t_2 = <span class='pyx_c_api'>__Pyx_PyNumber_Divide</span>(__pyx_t_4, __pyx_t_1);<span class='error_goto'> if (unlikely(!__pyx_t_2)) __PYX_ERR(0, 24, __pyx_L1_error)</span>\n",
              "    <span class='refnanny'>__Pyx_GOTREF</span>(__pyx_t_2);\n",
              "    <span class='pyx_macro_api'>__Pyx_DECREF</span>(__pyx_t_4); __pyx_t_4 = 0;\n",
              "    <span class='pyx_macro_api'>__Pyx_DECREF</span>(__pyx_t_1); __pyx_t_1 = 0;\n",
              "    __pyx_t_15 = __pyx_<span class='py_c_api'>PyFloat_AsDouble</span>(__pyx_t_2); if (unlikely((__pyx_t_15 == ((npy_float64)-1)) &amp;&amp; <span class='py_c_api'>PyErr_Occurred</span>())) <span class='error_goto'>__PYX_ERR(0, 24, __pyx_L1_error)</span>\n",
              "    <span class='pyx_macro_api'>__Pyx_DECREF</span>(__pyx_t_2); __pyx_t_2 = 0;\n",
              "    __pyx_t_11 = __pyx_v_i;\n",
              "    __pyx_t_12 = -1;\n",
              "    if (__pyx_t_11 &lt; 0) {\n",
              "      __pyx_t_11 += __pyx_pybuffernd_result.diminfo[0].shape;\n",
              "      if (unlikely(__pyx_t_11 &lt; 0)) __pyx_t_12 = 0;\n",
              "    } else if (unlikely(__pyx_t_11 &gt;= __pyx_pybuffernd_result.diminfo[0].shape)) __pyx_t_12 = 0;\n",
              "    if (unlikely(__pyx_t_12 != -1)) {\n",
              "      <span class='pyx_c_api'>__Pyx_RaiseBufferIndexError</span>(__pyx_t_12);\n",
              "      <span class='error_goto'>__PYX_ERR(0, 24, __pyx_L1_error)</span>\n",
              "    }\n",
              "    *__Pyx_BufPtrStrided1d(__pyx_t_5numpy_float64_t *, __pyx_pybuffernd_result.rcbuffer-&gt;pybuffer.buf, __pyx_t_11, __pyx_pybuffernd_result.diminfo[0].strides) = __pyx_t_15;\n",
              "  }\n",
              "</pre><pre class=\"cython line score-2\" onclick=\"(function(s){s.display=s.display==='block'?'none':'block'})(this.nextElementSibling.style)\">+<span class=\"\">25</span>:   <span class=\"k\">return</span> <span class=\"n\">result</span></pre>\n",
              "<pre class='cython code score-2 '>  <span class='pyx_macro_api'>__Pyx_XDECREF</span>(__pyx_r);\n",
              "  <span class='pyx_macro_api'>__Pyx_INCREF</span>(((PyObject *)__pyx_v_result));\n",
              "  __pyx_r = ((PyObject *)__pyx_v_result);\n",
              "  goto __pyx_L0;\n",
              "</pre><pre class=\"cython line score-0\">&#xA0;<span class=\"\">26</span>: </pre>\n",
              "<pre class=\"cython line score-0\">&#xA0;<span class=\"\">27</span>: </pre>\n",
              "</div></body></html>"
            ],
            "text/plain": [
              "<IPython.core.display.HTML object>"
            ]
          },
          "metadata": {
            "tags": []
          },
          "execution_count": 41
        }
      ]
    },
    {
      "cell_type": "code",
      "metadata": {
        "colab": {
          "base_uri": "https://localhost:8080/"
        },
        "id": "oezwHumk5dlM",
        "outputId": "b4bae3f9-7661-4af9-9455-5f22d385726b"
      },
      "source": [
        "%%timeit\r\n",
        "target_mean_v7(data,'y','x')"
      ],
      "execution_count": 42,
      "outputs": [
        {
          "output_type": "stream",
          "text": [
            "1000 loops, best of 3: 1.06 ms per loop\n"
          ],
          "name": "stdout"
        }
      ]
    },
    {
      "cell_type": "markdown",
      "metadata": {
        "id": "yQztre1FrTXB"
      },
      "source": [
        "有了8倍的飞跃"
      ]
    },
    {
      "cell_type": "code",
      "metadata": {
        "id": "0Evg1oIerVoO"
      },
      "source": [
        ""
      ],
      "execution_count": null,
      "outputs": []
    }
  ]
}